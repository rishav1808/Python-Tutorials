{
 "cells": [
  {
   "cell_type": "markdown",
   "id": "54445421",
   "metadata": {},
   "source": [
    "## Class Methods\n",
    "The methods that doesn't take an insatance as an argument but they take class itself as an argument.\n",
    "These methods can be used to change Class variable"
   ]
  },
  {
   "cell_type": "code",
   "execution_count": 10,
   "id": "0d1b7e1e",
   "metadata": {},
   "outputs": [
    {
     "name": "stdout",
     "output_type": "stream",
     "text": [
      "100000\n",
      "New Salary is:170000\n",
      "Revised Salary is:289000\n"
     ]
    }
   ],
   "source": [
    "class Employee:\n",
    "    #Class variable\n",
    "    increment=1.7\n",
    "    def __init__(self,name,salary):\n",
    "        self.name=name\n",
    "        self.salary=salary #Instance variable , different for all objects\n",
    "        \n",
    "    def new_salary(self):\n",
    "        self.salary=int(self.salary*Employee.increment)#IMP--> Class variable is accessed by using class_name.variable\n",
    "                                          #while instance variable is accessed by obj1.variable\n",
    "    @classmethod\n",
    "    def change_increment(cls,new_inc):#Class method takes in class as argument\n",
    "        increment=new_inc\n",
    "    \n",
    "emp1=Employee(\"Rishav\",100000)\n",
    "print(emp1.salary)\n",
    "emp1.new_salary()\n",
    "print(f\"New Salary is:{emp1.salary}\")\n",
    "Employee.change_increment(2)#Using class method\n",
    "emp1.new_salary()\n",
    "print(f\"Revised Salary is:{emp1.salary}\")\n",
    "\n"
   ]
  },
  {
   "cell_type": "code",
   "execution_count": null,
   "id": "75a951b2",
   "metadata": {},
   "outputs": [],
   "source": []
  }
 ],
 "metadata": {
  "kernelspec": {
   "display_name": "Python 3 (ipykernel)",
   "language": "python",
   "name": "python3"
  },
  "language_info": {
   "codemirror_mode": {
    "name": "ipython",
    "version": 3
   },
   "file_extension": ".py",
   "mimetype": "text/x-python",
   "name": "python",
   "nbconvert_exporter": "python",
   "pygments_lexer": "ipython3",
   "version": "3.7.9"
  }
 },
 "nbformat": 4,
 "nbformat_minor": 5
}
