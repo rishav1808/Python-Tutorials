{
 "cells": [
  {
   "cell_type": "markdown",
   "id": "dc58bdbf",
   "metadata": {},
   "source": [
    "## Concept of how an Object accquires all the properties of Class\n",
    "Whenever we create a class and then an object, firstly all the attributes and methods of the class is given to the object.After taking all the attributes and methods, the __init__ method of the object is invoked.\n",
    "Hence if any attribute is declared outside the __init__ method and if that attribute is changed by one object then for all the other objects that attribute is changed."
   ]
  },
  {
   "cell_type": "code",
   "execution_count": 20,
   "id": "76819bb5",
   "metadata": {},
   "outputs": [],
   "source": [
    "class Dog:\n",
    "    tricks=[] #Mistaken use of class variable\n",
    "    def __init__(self,name):\n",
    "        self.name=name\n",
    "    def add_tricks(self,trick):\n",
    "        (self.tricks.append(trick))\n",
    "\n"
   ]
  },
  {
   "cell_type": "code",
   "execution_count": 25,
   "id": "737e87f3",
   "metadata": {},
   "outputs": [
    {
     "data": {
      "text/plain": [
       "['Sit', 'Sit', 'Sit', 'Sit', 'Jump', 'Sit', 'Jump']"
      ]
     },
     "execution_count": 25,
     "metadata": {},
     "output_type": "execute_result"
    }
   ],
   "source": [
    "d1=Dog(\"Whisky\")\n",
    "d1.add_tricks(\"Sit\")\n",
    "d1.add_tricks(\"Jump\")\n",
    "d1.tricks\n",
    "d2=Dog(\"Bruno\")\n",
    "d2.tricks # Although Bruno didn't learn any tricks but d2.tricks gives out sit and jump"
   ]
  },
  {
   "cell_type": "code",
   "execution_count": 26,
   "id": "2c83c582",
   "metadata": {},
   "outputs": [],
   "source": [
    "class Cat:\n",
    "    \n",
    "    def __init__(self,name):\n",
    "        self.name=name\n",
    "        self.tricks=[]\n",
    "    def add_tricks(self,trick):\n",
    "        (self.tricks.append(trick))\n",
    "    "
   ]
  },
  {
   "cell_type": "code",
   "execution_count": 32,
   "id": "bd5dac38",
   "metadata": {},
   "outputs": [
    {
     "data": {
      "text/plain": [
       "[]"
      ]
     },
     "execution_count": 32,
     "metadata": {},
     "output_type": "execute_result"
    }
   ],
   "source": [
    "c1=Cat(\"Puffy\")\n",
    "c1.add_tricks(\"Ball Playing\")\n",
    "c1.tricks\n",
    "c2=Cat(\"Tuffy\")\n",
    "c2.tricks"
   ]
  },
  {
   "cell_type": "code",
   "execution_count": null,
   "id": "638e2759",
   "metadata": {},
   "outputs": [],
   "source": []
  }
 ],
 "metadata": {
  "kernelspec": {
   "display_name": "Python 3 (ipykernel)",
   "language": "python",
   "name": "python3"
  },
  "language_info": {
   "codemirror_mode": {
    "name": "ipython",
    "version": 3
   },
   "file_extension": ".py",
   "mimetype": "text/x-python",
   "name": "python",
   "nbconvert_exporter": "python",
   "pygments_lexer": "ipython3",
   "version": "3.7.9"
  }
 },
 "nbformat": 4,
 "nbformat_minor": 5
}
