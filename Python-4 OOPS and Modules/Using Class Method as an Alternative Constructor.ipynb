{
 "cells": [
  {
   "cell_type": "code",
   "execution_count": 10,
   "id": "0817f214",
   "metadata": {},
   "outputs": [
    {
     "name": "stdout",
     "output_type": "stream",
     "text": [
      "Rishav\n"
     ]
    }
   ],
   "source": [
    "class Employee:\n",
    "    def __init__(self,name,age,salary):\n",
    "        self.name=name\n",
    "        self.age=age\n",
    "        self.salary=salary\n",
    "    @classmethod\n",
    "    def constructor(cls,inp):\n",
    "        name,age,salary=inp.split()\n",
    "        return cls(name,age,salary)\n",
    "\n",
    "\n",
    "obj1=Employee.constructor(\"Rishav 22 100000\")\n",
    "print(obj1.name)"
   ]
  },
  {
   "cell_type": "code",
   "execution_count": null,
   "id": "eaaeee2e",
   "metadata": {},
   "outputs": [],
   "source": []
  },
  {
   "cell_type": "code",
   "execution_count": null,
   "id": "7972957b",
   "metadata": {},
   "outputs": [],
   "source": []
  }
 ],
 "metadata": {
  "kernelspec": {
   "display_name": "Python 3 (ipykernel)",
   "language": "python",
   "name": "python3"
  },
  "language_info": {
   "codemirror_mode": {
    "name": "ipython",
    "version": 3
   },
   "file_extension": ".py",
   "mimetype": "text/x-python",
   "name": "python",
   "nbconvert_exporter": "python",
   "pygments_lexer": "ipython3",
   "version": "3.7.9"
  }
 },
 "nbformat": 4,
 "nbformat_minor": 5
}
