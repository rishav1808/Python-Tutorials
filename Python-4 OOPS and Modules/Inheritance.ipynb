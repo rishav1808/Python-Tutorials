{
 "cells": [
  {
   "cell_type": "markdown",
   "id": "634650be",
   "metadata": {},
   "source": [
    "## Inheritance"
   ]
  },
  {
   "cell_type": "code",
   "execution_count": 13,
   "id": "e085a441",
   "metadata": {},
   "outputs": [
    {
     "name": "stdout",
     "output_type": "stream",
     "text": [
      "22\n",
      "True\n"
     ]
    }
   ],
   "source": [
    "#STATIC METHOD: The method which is independent of both the class and instance methods and variables\n",
    "class Employee:\n",
    "    #Class variable\n",
    "    increment=1.7\n",
    "    def __init__(self,name,age,salary):\n",
    "        self.name=name\n",
    "        self.age=age\n",
    "        self.salary=salary #Instance variable , different for all objects\n",
    "        \n",
    "    def new_salary(self):\n",
    "        self.salary=int(self.salary*Employee.increment)#IMP--> Class variable is accessed by using class_name.variable\n",
    "                                          #while instance variable is accessed by obj1.variable\n",
    "    @classmethod\n",
    "    def change_increment(cls,new_inc):#Class method takes in class as argument\n",
    "        increment=new_inc\n",
    "    @staticmethod\n",
    "    def isEligible(age):\n",
    "        if(age<60):\n",
    "            return True\n",
    "        else:\n",
    "            return False\n",
    "\n",
    "emp1=Employee(\"Rishav\",22,100000)\n",
    "print(emp1.age)\n",
    "\n",
    "print(emp1.isEligible(emp1.age))"
   ]
  },
  {
   "cell_type": "code",
   "execution_count": 31,
   "id": "fd35e7b8",
   "metadata": {},
   "outputs": [
    {
     "name": "stdout",
     "output_type": "stream",
     "text": [
      "100000 Python\n",
      "Salary of Programmer is 100000\n",
      "Salary of Employee is 100000\n",
      " NEW Salary of Employee is 170000\n",
      "NEW Salary of Programmer is 190000\n"
     ]
    }
   ],
   "source": [
    "#INHERITANCE\n",
    "class Programmer(Employee):\n",
    "    def __init__(self,name,age,salary,prog,exp):\n",
    "        super().__init__(name,age,salary)\n",
    "        self.prog=prog\n",
    "        self.exp=exp\n",
    "    def new_salary(self): #Here we are overidding the function new_salary as it same in class Employee\n",
    "        self.salary=int(self.salary*(Programmer.increment+0.2))\n",
    "p1=Programmer(\"Rishav\",22,100000,\"Python\",2)\n",
    "print(p1.salary,p1.prog)\n",
    "print(f\"Salary of Programmer is {p1.salary}\")\n",
    "print(f\"Salary of Employee is {emp1.salary}\")\n",
    "emp1.new_salary()\n",
    "print(f\" NEW Salary of Employee is {emp1.salary}\")\n",
    "p1.new_salary()\n",
    "print(f\"NEW Salary of Programmer is {p1.salary}\")"
   ]
  },
  {
   "cell_type": "code",
   "execution_count": null,
   "id": "7977f81a",
   "metadata": {},
   "outputs": [],
   "source": []
  },
  {
   "cell_type": "code",
   "execution_count": null,
   "id": "510983fe",
   "metadata": {},
   "outputs": [],
   "source": []
  }
 ],
 "metadata": {
  "kernelspec": {
   "display_name": "Python 3 (ipykernel)",
   "language": "python",
   "name": "python3"
  },
  "language_info": {
   "codemirror_mode": {
    "name": "ipython",
    "version": 3
   },
   "file_extension": ".py",
   "mimetype": "text/x-python",
   "name": "python",
   "nbconvert_exporter": "python",
   "pygments_lexer": "ipython3",
   "version": "3.7.9"
  }
 },
 "nbformat": 4,
 "nbformat_minor": 5
}
