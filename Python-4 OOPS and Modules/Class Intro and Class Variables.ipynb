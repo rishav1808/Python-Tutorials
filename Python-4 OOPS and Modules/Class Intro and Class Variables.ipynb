{
 "cells": [
  {
   "cell_type": "code",
   "execution_count": 4,
   "id": "d2d0fbb3",
   "metadata": {},
   "outputs": [
    {
     "name": "stdout",
     "output_type": "stream",
     "text": [
      "Rishav 5 8.67\n"
     ]
    }
   ],
   "source": [
    "class Student:\n",
    "    def __init__(self,name,sem,cgpa):#Kind of Constructor. Self is always passed in each method\n",
    "        self.name=name      #self is the object calling the function.So ,whenever a function is called\n",
    "        self.sem=sem        #the object calling it is passed into that function\n",
    "        self.cgpa=cgpa\n",
    "\n",
    "\n",
    "obj1=Student(\"Rishav\",5,8.67);\n",
    "print(obj1.name,obj1.sem,obj1.cgpa)"
   ]
  },
  {
   "cell_type": "code",
   "execution_count": 12,
   "id": "f8b63f54",
   "metadata": {},
   "outputs": [
    {
     "ename": "TypeError",
     "evalue": "fun1() takes 0 positional arguments but 1 was given",
     "output_type": "error",
     "traceback": [
      "\u001b[1;31m---------------------------------------------------------------------------\u001b[0m",
      "\u001b[1;31mTypeError\u001b[0m                                 Traceback (most recent call last)",
      "\u001b[1;32m~\\AppData\\Local\\Temp/ipykernel_2816/1283485454.py\u001b[0m in \u001b[0;36m<module>\u001b[1;34m\u001b[0m\n\u001b[0;32m      4\u001b[0m         \u001b[1;32mpass\u001b[0m\u001b[1;33m\u001b[0m\u001b[1;33m\u001b[0m\u001b[0m\n\u001b[0;32m      5\u001b[0m \u001b[0me1\u001b[0m\u001b[1;33m=\u001b[0m\u001b[0mEmployee\u001b[0m\u001b[1;33m(\u001b[0m\u001b[1;33m)\u001b[0m\u001b[1;33m\u001b[0m\u001b[1;33m\u001b[0m\u001b[0m\n\u001b[1;32m----> 6\u001b[1;33m \u001b[0me1\u001b[0m\u001b[1;33m.\u001b[0m\u001b[0mfun1\u001b[0m\u001b[1;33m(\u001b[0m\u001b[1;33m)\u001b[0m\u001b[1;33m\u001b[0m\u001b[1;33m\u001b[0m\u001b[0m\n\u001b[0m",
      "\u001b[1;31mTypeError\u001b[0m: fun1() takes 0 positional arguments but 1 was given"
     ]
    }
   ],
   "source": [
    "# Example of self  \n",
    "class Employee:\n",
    "    def fun1():\n",
    "        pass\n",
    "e1=Employee()\n",
    "e1.fun1()\n",
    "#In every function self is passed and since we didn't gave self in the defination of fun1() and when we\n",
    "#called e1.fun1() , e1 passed itself in fun1 and since there is no argument in the defination of fun1()\n",
    "#we got an error"
   ]
  },
  {
   "cell_type": "code",
   "execution_count": 16,
   "id": "d451079c",
   "metadata": {},
   "outputs": [
    {
     "data": {
      "text/plain": [
       "'\\nClass variables are those which are common to all the objects of the class and can be accessed by\\nobjects using class_name.var1\\n\\nInstance variable are those which are specific to a certain object\\n'"
      ]
     },
     "execution_count": 16,
     "metadata": {},
     "output_type": "execute_result"
    }
   ],
   "source": [
    "## Class Variable and Instance variable\n",
    "'''\n",
    "Class variables are those which are common to all the objects of the class and can be accessed by\n",
    "objects using class_name.var1\n",
    "\n",
    "Instance variable are those which are specific to a certain object\n",
    "'''\n",
    "\n"
   ]
  },
  {
   "cell_type": "code",
   "execution_count": null,
   "id": "cea63e75",
   "metadata": {},
   "outputs": [],
   "source": []
  },
  {
   "cell_type": "code",
   "execution_count": 52,
   "id": "2a640d80",
   "metadata": {},
   "outputs": [
    {
     "name": "stdout",
     "output_type": "stream",
     "text": [
      "Rishav 100000\n",
      "170000\n",
      "{'name': 'Rishav', 'salary': 170000}\n",
      "{'name': 'Rishav', 'salary': 170000, 'age': 22}\n",
      "{'__module__': '__main__', 'increment': 1.7, '__init__': <function Employee.__init__ at 0x000001E24EB1CB88>, 'new_Salary': <function Employee.new_Salary at 0x000001E24EB1CA68>, '__dict__': <attribute '__dict__' of 'Employee' objects>, '__weakref__': <attribute '__weakref__' of 'Employee' objects>, '__doc__': None}\n"
     ]
    }
   ],
   "source": [
    "class Employee:\n",
    "    #Class variable\n",
    "    increment=1.7\n",
    "    def __init__(self,name,salary):\n",
    "        self.name=name\n",
    "        self.salary=salary #Instance variable , different for all objects\n",
    "        \n",
    "    def new_Salary(self):\n",
    "        self.salary=int(self.salary*Employee.increment)#IMP--> Class variable is accessed by using class_name.variable\n",
    "                                          #while instance variable is accessed by obj1.variable\n",
    "obj1=Employee(\"Rishav\",100000)\n",
    "print(obj1.name,obj1.salary)\n",
    "obj1.new_Salary()\n",
    "print(obj1.salary)\n",
    "print(obj1.__dict__)#Shows all the variables of object obj1\n",
    "obj1.age=22 #New instance variable is created\n",
    "print(obj1.__dict__)\n",
    "#Shows all the variables of class Employee\n",
    "print(Employee.__dict__)"
   ]
  },
  {
   "cell_type": "code",
   "execution_count": null,
   "id": "975959c4",
   "metadata": {},
   "outputs": [],
   "source": []
  },
  {
   "cell_type": "code",
   "execution_count": null,
   "id": "27ed5479",
   "metadata": {},
   "outputs": [],
   "source": []
  }
 ],
 "metadata": {
  "kernelspec": {
   "display_name": "Python 3 (ipykernel)",
   "language": "python",
   "name": "python3"
  },
  "language_info": {
   "codemirror_mode": {
    "name": "ipython",
    "version": 3
   },
   "file_extension": ".py",
   "mimetype": "text/x-python",
   "name": "python",
   "nbconvert_exporter": "python",
   "pygments_lexer": "ipython3",
   "version": "3.7.9"
  }
 },
 "nbformat": 4,
 "nbformat_minor": 5
}
