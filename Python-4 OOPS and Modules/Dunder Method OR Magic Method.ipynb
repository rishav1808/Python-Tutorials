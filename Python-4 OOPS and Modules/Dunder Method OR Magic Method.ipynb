{
 "cells": [
  {
   "cell_type": "markdown",
   "id": "3d869135",
   "metadata": {},
   "source": [
    "## Dunders in Python\n",
    "Dunders are the function that are predefined in Python and we can use them.These type of methods are of the type __fun__.\n",
    "Ex: __init__ this function initalizes the object of a class."
   ]
  },
  {
   "cell_type": "markdown",
   "id": "4854a372",
   "metadata": {},
   "source": [
    "Various types of Dunders are __init__, __repr__ ,__str__,__add__ and many more"
   ]
  },
  {
   "cell_type": "code",
   "execution_count": 12,
   "id": "39a741cb",
   "metadata": {},
   "outputs": [
    {
     "name": "stdout",
     "output_type": "stream",
     "text": [
      "5 10\n"
     ]
    },
    {
     "data": {
      "text/plain": [
       "'5 10'"
      ]
     },
     "execution_count": 12,
     "metadata": {},
     "output_type": "execute_result"
    }
   ],
   "source": [
    "class Dunder_Methods:\n",
    "    def __init__(self,num1,num2):\n",
    "        self.num1=num1\n",
    "        self.num2=num2\n",
    "    def __add__(self,other):\n",
    "        return(self.num1+other.num2)\n",
    "    def __sub__(self,other):\n",
    "        return(self.num1-other.num1)\n",
    "        \n",
    "    def __str__(self):\n",
    "        return(f\"{self.num1} {self.num2}\")\n",
    "    def __repr(self):\n",
    "        print(f\"Num1 is {num1} and Num2 is {num2}\")\n",
    "    \n",
    "\n",
    "obj1=Dunder_Methods(5,10)\n",
    "obj2=Dunder_Methods(6,12)\n",
    "obj1+obj2\n",
    "print(obj1)\n",
    "str(obj1)"
   ]
  },
  {
   "cell_type": "code",
   "execution_count": null,
   "id": "3d0e1fa8",
   "metadata": {},
   "outputs": [],
   "source": []
  }
 ],
 "metadata": {
  "kernelspec": {
   "display_name": "Python 3 (ipykernel)",
   "language": "python",
   "name": "python3"
  },
  "language_info": {
   "codemirror_mode": {
    "name": "ipython",
    "version": 3
   },
   "file_extension": ".py",
   "mimetype": "text/x-python",
   "name": "python",
   "nbconvert_exporter": "python",
   "pygments_lexer": "ipython3",
   "version": "3.7.9"
  }
 },
 "nbformat": 4,
 "nbformat_minor": 5
}
