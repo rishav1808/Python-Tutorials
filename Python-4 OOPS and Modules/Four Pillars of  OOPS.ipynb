{
 "cells": [
  {
   "cell_type": "markdown",
   "id": "6a9052c4",
   "metadata": {},
   "source": [
    "# OOPS 4 Pillars\n",
    "## 1.Abstraction\n",
    "## 2.Encapsulation\n",
    "## 3.Inheritance\n",
    "## 4.Polymorphism\n"
   ]
  },
  {
   "cell_type": "markdown",
   "id": "d8022be0",
   "metadata": {},
   "source": [
    "### 1. Abstraction\n",
    "It is the process of hiding the implementation details from the user and the user is presented with the most essential variables. The need not to worry about how a method works and only to use the method .Ex: Using the button of TVs and not thinking how that  button is actually working\n",
    "\n",
    "### 2.Encapsulation\n",
    "It is similar to Abstraction.This is a programming style where implementation details are hidden.\n",
    "The main difference is that Encapsulation is done for the purpose of SECURITY.\n",
    "The encapsulation hides the implementation details of a class from other objects.\n",
    "\n",
    "### 3.Inheritance\n",
    "A class can fully take all the attributes and methods from an existing class and this is known as Inheritance.\n",
    "EX: class Student(Human):\n",
    "### 4. Polymorphism\n",
    "When a particular function or an operator have different functionalities which depend on factors like # of arguments passed,object of which class is calling it etc. then it is called Polymorphism.\n",
    "Single function or oprerator playing multiple roles\n",
    "\n",
    "Polymorphism is mostly used when dealing with inheritance.\n",
    "\n"
   ]
  },
  {
   "cell_type": "code",
   "execution_count": 1,
   "id": "bace55fb",
   "metadata": {},
   "outputs": [
    {
     "name": "stdout",
     "output_type": "stream",
     "text": [
      "Object of class Y\n",
      "Object of class Z\n"
     ]
    }
   ],
   "source": [
    "#Example of Polymorphism\n",
    "class x:\n",
    "    def fun1():\n",
    "        pass\n",
    "class y(x):\n",
    "    def fun1():\n",
    "        print(\"Object of class Y\")\n",
    "class z(x):\n",
    "    def fun1():\n",
    "        print(\"Object of class Z\")\n",
    "x1=x.fun1()\n",
    "y1=y.fun1()\n",
    "z1=z.fun1()"
   ]
  },
  {
   "attachments": {},
   "cell_type": "markdown",
   "id": "670fc8f3",
   "metadata": {},
   "source": [
    "<img src=\"Polymorphism.png\"/>\n"
   ]
  },
  {
   "cell_type": "markdown",
   "id": "13067c5d",
   "metadata": {},
   "source": [
    "## Runtime Polymorphism in C++\n",
    "Suppose that two class Swift and Innova are Inheriting from class Car.\n",
    "Car has 2 method start() and stop()\n",
    "Now if I create a pointer of Car class and point it to Swift() object then after calling start() method , which method will be called ? Car's start() or Swift's Start()?\n",
    "Ans: Since the pointer is of Car class, Car's start() function will be called despite the fact that it points to the Swift() object\n",
    "Now to change this behaviour we have to make the method Car start() as virtual so that when similar situation arises, we can call the Swift's Start() method\n",
    "CODE in C++\n",
    "#include <iostream>\n",
    "\n",
    "using namespace std;\n",
    "\n",
    "class Car{\n",
    "    public:\n",
    "        void start(){\n",
    "            cout<<\"Car\"<<endl;\n",
    "            }\n",
    "};\n",
    "class Swift : public Car\n",
    "{\n",
    "    void start(){\n",
    "        cout<<\"Swift\"<<endl;\n",
    "    }\n",
    "};\n",
    "int main()\n",
    "{\n",
    "    Car *c=new Swift();\n",
    "    c->start();\n",
    "\n",
    "    return 0;\n",
    "}\n",
    "\n",
    "    OUTPUT: Car\n",
    " Now to change the o/p to ->Swift ; declare the function in car as a VIRTUAL Function\n",
    "\n",
    "#include <iostream>\n",
    "\n",
    "using namespace std;\n",
    "\n",
    "class Car{\n",
    "    public:\n",
    "        virtual void start(){\n",
    "            cout<<\"Car\"<<endl;\n",
    "            }\n",
    "};\n",
    "class Swift : public Car\n",
    "{\n",
    "    void start(){\n",
    "        cout<<\"Swift\"<<endl;\n",
    "    }\n",
    "};\n",
    "int main()\n",
    "{\n",
    "    Car *c=new Swift();\n",
    "    c->start();\n",
    "\n",
    "    return 0;\n",
    "}\n",
    "    \n",
    " OUTPUT--> Swift\n",
    " if virtual void start()=0; then is called PURE VIRTUAL Function"
   ]
  }
 ],
 "metadata": {
  "kernelspec": {
   "display_name": "Python 3 (ipykernel)",
   "language": "python",
   "name": "python3"
  },
  "language_info": {
   "codemirror_mode": {
    "name": "ipython",
    "version": 3
   },
   "file_extension": ".py",
   "mimetype": "text/x-python",
   "name": "python",
   "nbconvert_exporter": "python",
   "pygments_lexer": "ipython3",
   "version": "3.7.9"
  }
 },
 "nbformat": 4,
 "nbformat_minor": 5
}
