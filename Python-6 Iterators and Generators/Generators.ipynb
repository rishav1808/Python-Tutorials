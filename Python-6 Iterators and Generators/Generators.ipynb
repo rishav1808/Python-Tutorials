{
 "cells": [
  {
   "cell_type": "markdown",
   "id": "d21c8e5e",
   "metadata": {},
   "source": [
    "## Generators\n",
    "Generators are bascially iterators which can used directly\n",
    "- yield is a keyword used to define a generator"
   ]
  },
  {
   "cell_type": "code",
   "execution_count": 31,
   "id": "44723445",
   "metadata": {},
   "outputs": [],
   "source": [
    " class fib:\n",
    "        def __init__(self):\n",
    "            self.prev=0\n",
    "            self.curr=1\n",
    "        def __iter__(self):\n",
    "            return self\n",
    "        def __next__(self):\n",
    "            temp=self.curr\n",
    "            self.curr+=self.prev\n",
    "            self.prev=temp\n",
    "            return temp"
   ]
  },
  {
   "cell_type": "code",
   "execution_count": 35,
   "id": "afa74c0c",
   "metadata": {},
   "outputs": [],
   "source": [
    "f=iter(fib())"
   ]
  },
  {
   "cell_type": "code",
   "execution_count": 40,
   "id": "86332a0e",
   "metadata": {},
   "outputs": [
    {
     "data": {
      "text/plain": [
       "5"
      ]
     },
     "execution_count": 40,
     "metadata": {},
     "output_type": "execute_result"
    }
   ],
   "source": [
    "next(f)"
   ]
  },
  {
   "cell_type": "code",
   "execution_count": 41,
   "id": "34c9c2b4",
   "metadata": {},
   "outputs": [],
   "source": [
    "#More effective way of Executing the fibonacci nos is by using Generators"
   ]
  },
  {
   "cell_type": "code",
   "execution_count": null,
   "id": "7112eae9",
   "metadata": {},
   "outputs": [],
   "source": [
    "def fib(a=0, b=1):\n",
    "    \"\"\"Generator that yields Fibonacci numbers. `a` and `b` are the seed values\"\"\"\n",
    "    while True:\n",
    "        yield b\n",
    "        a, b = b, a + b\n",
    "\n",
    "f = fib()\n",
    "print(next(f))"
   ]
  },
  {
   "cell_type": "code",
   "execution_count": null,
   "id": "767eade3",
   "metadata": {},
   "outputs": [],
   "source": []
  },
  {
   "cell_type": "code",
   "execution_count": null,
   "id": "d90528cd",
   "metadata": {},
   "outputs": [],
   "source": []
  },
  {
   "cell_type": "code",
   "execution_count": null,
   "id": "dce3f679",
   "metadata": {},
   "outputs": [],
   "source": []
  }
 ],
 "metadata": {
  "kernelspec": {
   "display_name": "Python 3 (ipykernel)",
   "language": "python",
   "name": "python3"
  },
  "language_info": {
   "codemirror_mode": {
    "name": "ipython",
    "version": 3
   },
   "file_extension": ".py",
   "mimetype": "text/x-python",
   "name": "python",
   "nbconvert_exporter": "python",
   "pygments_lexer": "ipython3",
   "version": "3.7.9"
  }
 },
 "nbformat": 4,
 "nbformat_minor": 5
}
