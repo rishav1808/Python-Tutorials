{
 "cells": [
  {
   "cell_type": "markdown",
   "id": "d41db67e",
   "metadata": {},
   "source": [
    "## Iteration Protocol\n",
    "-Itreatable: The object that can be itreated over\n",
    "-Itreator: The pointer which can iterate over the object\n",
    "### A Python iterator object must implement two special methods, __iter__() and __next__(), collectively called the iterator protocol."
   ]
  },
  {
   "cell_type": "code",
   "execution_count": 1,
   "id": "756bff00",
   "metadata": {},
   "outputs": [
    {
     "data": {
      "text/plain": [
       "<list_iterator at 0x22bffa8c388>"
      ]
     },
     "execution_count": 1,
     "metadata": {},
     "output_type": "execute_result"
    }
   ],
   "source": [
    "x=[1,2,3]\n",
    "# iter()--> this function returns an Iterator \n",
    "x_iter=iter(x)\n",
    "#iter function is used to declare an iterator\n",
    "x_iter"
   ]
  },
  {
   "cell_type": "code",
   "execution_count": 3,
   "id": "d570b095",
   "metadata": {},
   "outputs": [
    {
     "data": {
      "text/plain": [
       "2"
      ]
     },
     "execution_count": 3,
     "metadata": {},
     "output_type": "execute_result"
    }
   ],
   "source": [
    "#next()-->This function helps the iterator to iterate over an object one object at a time\n",
    "#When we reach the end and there is no more data to be returned, \n",
    "#it will raise the StopIteration Exception\n",
    "next(x_iter) #next function is to move to the next item"
   ]
  },
  {
   "cell_type": "markdown",
   "id": "c1b03154",
   "metadata": {},
   "source": [
    "## Creating our own Iterator"
   ]
  },
  {
   "cell_type": "code",
   "execution_count": 3,
   "id": "9cfa7884",
   "metadata": {},
   "outputs": [],
   "source": [
    "class iterator:\n",
    "    def __init__(self,n):\n",
    "        self.i=0\n",
    "        self.n=n\n",
    "    def __iter__(self):\n",
    "        return self\n",
    "    def __next__(self):\n",
    "        if(self.i<self.n):\n",
    "            i=self.i\n",
    "            self.i+=1\n",
    "            return i\n",
    "        else :\n",
    "            raise StopIteration()"
   ]
  },
  {
   "cell_type": "code",
   "execution_count": 4,
   "id": "7176fa31",
   "metadata": {},
   "outputs": [
    {
     "name": "stdout",
     "output_type": "stream",
     "text": [
      "0\n",
      "1\n",
      "2\n",
      "3\n",
      "4\n"
     ]
    }
   ],
   "source": [
    "for x in iterator(5):\n",
    "    print(x)"
   ]
  },
  {
   "cell_type": "code",
   "execution_count": 9,
   "id": "158db25a",
   "metadata": {},
   "outputs": [],
   "source": [
    "#CORRECT Way of doing it\n",
    "class iteratable:\n",
    "    def __init__(self,n):\n",
    "        self.n =n\n",
    "    def __iter__(self):\n",
    "        return Iterator(self.n)\n",
    "class Iterator:\n",
    "    def __init__(self,n):\n",
    "        self.i=0\n",
    "        self.n=n\n",
    "    def __iter__(self):\n",
    "        return self\n",
    "    def __next__(self):\n",
    "        if self.i<self.n:\n",
    "            i=self.i\n",
    "            self.i+=1\n",
    "            return i\n",
    "        else:\n",
    "            raise StopIteration()"
   ]
  },
  {
   "cell_type": "code",
   "execution_count": 10,
   "id": "b32b2670",
   "metadata": {},
   "outputs": [
    {
     "name": "stdout",
     "output_type": "stream",
     "text": [
      "0\n",
      "1\n",
      "2\n",
      "3\n",
      "4\n"
     ]
    }
   ],
   "source": [
    "for y in iteratable(5):\n",
    "    print(y)"
   ]
  },
  {
   "cell_type": "code",
   "execution_count": null,
   "id": "ac338490",
   "metadata": {},
   "outputs": [],
   "source": []
  }
 ],
 "metadata": {
  "kernelspec": {
   "display_name": "Python 3 (ipykernel)",
   "language": "python",
   "name": "python3"
  },
  "language_info": {
   "codemirror_mode": {
    "name": "ipython",
    "version": 3
   },
   "file_extension": ".py",
   "mimetype": "text/x-python",
   "name": "python",
   "nbconvert_exporter": "python",
   "pygments_lexer": "ipython3",
   "version": "3.7.9"
  }
 },
 "nbformat": 4,
 "nbformat_minor": 5
}
