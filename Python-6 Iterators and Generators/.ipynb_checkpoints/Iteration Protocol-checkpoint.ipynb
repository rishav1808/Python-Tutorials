{
 "cells": [
  {
   "cell_type": "markdown",
   "id": "d41db67e",
   "metadata": {},
   "source": [
    "## Iteration Protocol\n",
    "-Itreatable: The object that can be itreated over\n",
    "-Itreator: The pointer which can iterate over the object\n"
   ]
  },
  {
   "cell_type": "code",
   "execution_count": 1,
   "id": "756bff00",
   "metadata": {},
   "outputs": [
    {
     "data": {
      "text/plain": [
       "<list_iterator at 0x22bffa8c388>"
      ]
     },
     "execution_count": 1,
     "metadata": {},
     "output_type": "execute_result"
    }
   ],
   "source": [
    "x=[1,2,3]\n",
    "x_iter=iter(x)\n",
    "#iter function is used to declare an iterator\n",
    "x_iter"
   ]
  },
  {
   "cell_type": "code",
   "execution_count": 3,
   "id": "d570b095",
   "metadata": {},
   "outputs": [
    {
     "data": {
      "text/plain": [
       "2"
      ]
     },
     "execution_count": 3,
     "metadata": {},
     "output_type": "execute_result"
    }
   ],
   "source": [
    "next(x_iter) #next function is to move to the next item"
   ]
  },
  {
   "cell_type": "code",
   "execution_count": null,
   "id": "b8c6ccba",
   "metadata": {},
   "outputs": [],
   "source": []
  }
 ],
 "metadata": {
  "kernelspec": {
   "display_name": "Python 3 (ipykernel)",
   "language": "python",
   "name": "python3"
  },
  "language_info": {
   "codemirror_mode": {
    "name": "ipython",
    "version": 3
   },
   "file_extension": ".py",
   "mimetype": "text/x-python",
   "name": "python",
   "nbconvert_exporter": "python",
   "pygments_lexer": "ipython3",
   "version": "3.7.9"
  }
 },
 "nbformat": 4,
 "nbformat_minor": 5
}
