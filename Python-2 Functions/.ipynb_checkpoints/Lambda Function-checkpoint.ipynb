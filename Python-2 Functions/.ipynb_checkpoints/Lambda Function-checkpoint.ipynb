{
 "cells": [
  {
   "cell_type": "markdown",
   "id": "4989bf26",
   "metadata": {},
   "source": [
    "# Lambda Function\n",
    "Lambda Functions are the functions which is only consists of one line (arguments+body) and in that one line it returns some value"
   ]
  },
  {
   "cell_type": "code",
   "execution_count": 2,
   "id": "b8a1f618",
   "metadata": {},
   "outputs": [],
   "source": [
    "#Example\n",
    "def xtreme(a,b):\n",
    "    return(a**b)"
   ]
  },
  {
   "cell_type": "code",
   "execution_count": 3,
   "id": "51e6db03",
   "metadata": {},
   "outputs": [
    {
     "data": {
      "text/plain": [
       "100"
      ]
     },
     "execution_count": 3,
     "metadata": {},
     "output_type": "execute_result"
    }
   ],
   "source": [
    "xtreme(10,2)"
   ]
  },
  {
   "cell_type": "code",
   "execution_count": 4,
   "id": "e4e15197",
   "metadata": {},
   "outputs": [],
   "source": [
    "xtr=lambda a,b : a**b"
   ]
  },
  {
   "cell_type": "code",
   "execution_count": 5,
   "id": "9d70b68d",
   "metadata": {},
   "outputs": [
    {
     "data": {
      "text/plain": [
       "100"
      ]
     },
     "execution_count": 5,
     "metadata": {},
     "output_type": "execute_result"
    }
   ],
   "source": [
    "xtr(10,2)"
   ]
  },
  {
   "cell_type": "code",
   "execution_count": 10,
   "id": "d87ba373",
   "metadata": {},
   "outputs": [],
   "source": [
    "a=[(\"Rishav\",100),(\"Mohit\",95),(\"Punit\",90),(\"Akash\",89)]"
   ]
  },
  {
   "cell_type": "code",
   "execution_count": 15,
   "id": "e148d694",
   "metadata": {},
   "outputs": [
    {
     "data": {
      "text/plain": [
       "[('Akash', 89), ('Mohit', 95), ('Punit', 90), ('Rishav', 100)]"
      ]
     },
     "execution_count": 15,
     "metadata": {},
     "output_type": "execute_result"
    }
   ],
   "source": [
    "sorted(a) #SOrted according to the 1st parameter"
   ]
  },
  {
   "cell_type": "code",
   "execution_count": 22,
   "id": "3cbf7e0c",
   "metadata": {},
   "outputs": [
    {
     "data": {
      "text/plain": [
       "[('Akash', 89), ('Punit', 90), ('Mohit', 95), ('Rishav', 100)]"
      ]
     },
     "execution_count": 22,
     "metadata": {},
     "output_type": "execute_result"
    }
   ],
   "source": [
    "sorted(a,key=lambda a:a[1]) #Here only key works not any other variables"
   ]
  },
  {
   "cell_type": "code",
   "execution_count": null,
   "id": "17aa2b1f",
   "metadata": {},
   "outputs": [],
   "source": []
  }
 ],
 "metadata": {
  "kernelspec": {
   "display_name": "Python 3 (ipykernel)",
   "language": "python",
   "name": "python3"
  },
  "language_info": {
   "codemirror_mode": {
    "name": "ipython",
    "version": 3
   },
   "file_extension": ".py",
   "mimetype": "text/x-python",
   "name": "python",
   "nbconvert_exporter": "python",
   "pygments_lexer": "ipython3",
   "version": "3.7.9"
  }
 },
 "nbformat": 4,
 "nbformat_minor": 5
}
