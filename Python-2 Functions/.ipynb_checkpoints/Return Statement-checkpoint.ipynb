{
 "cells": [
  {
   "cell_type": "markdown",
   "id": "3bea39fd",
   "metadata": {},
   "source": [
    "## Return statemet used in Python\n"
   ]
  },
  {
   "cell_type": "code",
   "execution_count": 2,
   "id": "ab9f8675",
   "metadata": {},
   "outputs": [],
   "source": [
    "def addition(a,b):\n",
    "    return(a+b)"
   ]
  },
  {
   "cell_type": "code",
   "execution_count": 4,
   "id": "5ebb1301",
   "metadata": {},
   "outputs": [
    {
     "name": "stdout",
     "output_type": "stream",
     "text": [
      "30\n"
     ]
    }
   ],
   "source": [
    "x=addition(10,20)\n",
    "print(x)"
   ]
  },
  {
   "cell_type": "markdown",
   "id": "50df19c4",
   "metadata": {},
   "source": [
    "### Finally keyword will always be printed when used in a function whatever the rest of o/p is. And if there 2 return statemets in the function then the return statement present in 'finally ' block will be returned and the other one will be ignored"
   ]
  },
  {
   "cell_type": "code",
   "execution_count": 8,
   "id": "5209f2a1",
   "metadata": {},
   "outputs": [],
   "source": [
    "def fun1(a,b):\n",
    "    \n",
    "    try:\n",
    "        return(a/b)\n",
    "    except:\n",
    "        print(\"Error\")\n",
    "    finally:\n",
    "        print(\"Yeah\")\n",
    "        return(a+b)\n"
   ]
  },
  {
   "cell_type": "code",
   "execution_count": 6,
   "id": "704f1c7e",
   "metadata": {},
   "outputs": [
    {
     "name": "stdout",
     "output_type": "stream",
     "text": [
      "Yeah\n"
     ]
    },
    {
     "data": {
      "text/plain": [
       "0.6666666666666666"
      ]
     },
     "execution_count": 6,
     "metadata": {},
     "output_type": "execute_result"
    }
   ],
   "source": [
    "fun1(2,3)"
   ]
  },
  {
   "cell_type": "code",
   "execution_count": 7,
   "id": "97f6933c",
   "metadata": {},
   "outputs": [
    {
     "name": "stdout",
     "output_type": "stream",
     "text": [
      "Error\n",
      "Yeah\n"
     ]
    }
   ],
   "source": [
    "fun1(2,0)"
   ]
  },
  {
   "cell_type": "code",
   "execution_count": 10,
   "id": "b1db01d3",
   "metadata": {},
   "outputs": [
    {
     "name": "stdout",
     "output_type": "stream",
     "text": [
      "Yeah\n"
     ]
    },
    {
     "data": {
      "text/plain": [
       "5"
      ]
     },
     "execution_count": 10,
     "metadata": {},
     "output_type": "execute_result"
    }
   ],
   "source": [
    "fun1(2,3)"
   ]
  }
 ],
 "metadata": {
  "kernelspec": {
   "display_name": "Python 3 (ipykernel)",
   "language": "python",
   "name": "python3"
  },
  "language_info": {
   "codemirror_mode": {
    "name": "ipython",
    "version": 3
   },
   "file_extension": ".py",
   "mimetype": "text/x-python",
   "name": "python",
   "nbconvert_exporter": "python",
   "pygments_lexer": "ipython3",
   "version": "3.7.9"
  }
 },
 "nbformat": 4,
 "nbformat_minor": 5
}
