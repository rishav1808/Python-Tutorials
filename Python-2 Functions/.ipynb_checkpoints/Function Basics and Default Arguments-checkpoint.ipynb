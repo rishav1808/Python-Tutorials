{
 "cells": [
  {
   "cell_type": "markdown",
   "id": "c0e21529",
   "metadata": {},
   "source": [
    "### Function Basics\n",
    "def-->keyword\n"
   ]
  },
  {
   "cell_type": "code",
   "execution_count": 1,
   "id": "95975851",
   "metadata": {},
   "outputs": [],
   "source": [
    "def identity():\n",
    "    print(\"My name is Rishav\")"
   ]
  },
  {
   "cell_type": "code",
   "execution_count": 11,
   "id": "2d278036",
   "metadata": {},
   "outputs": [],
   "source": [
    "\n",
    "#Here the variables can be inserted in the functions using {} and .format(variable)"
   ]
  },
  {
   "cell_type": "code",
   "execution_count": 8,
   "id": "e5bbdd99",
   "metadata": {},
   "outputs": [],
   "source": [
    "def identity(name):\n",
    "    print(\"My name is {}\".format(name))"
   ]
  },
  {
   "cell_type": "code",
   "execution_count": 9,
   "id": "a94e253f",
   "metadata": {},
   "outputs": [
    {
     "name": "stdout",
     "output_type": "stream",
     "text": [
      "My name is Rish\n"
     ]
    }
   ],
   "source": [
    "identity(\"Rish\")"
   ]
  },
  {
   "cell_type": "code",
   "execution_count": 16,
   "id": "8533f5cb",
   "metadata": {},
   "outputs": [],
   "source": [
    "def welcome(name,rank,age):\n",
    "    for i in range(0,rank):\n",
    "        print(\"Welcome {} of age {}\".format(name,age))"
   ]
  },
  {
   "cell_type": "code",
   "execution_count": 17,
   "id": "10be404d",
   "metadata": {},
   "outputs": [
    {
     "name": "stdout",
     "output_type": "stream",
     "text": [
      "Welcome Rishav of age 21\n",
      "Welcome Rishav of age 21\n",
      "Welcome Rishav of age 21\n",
      "Welcome Rishav of age 21\n",
      "Welcome Rishav of age 21\n"
     ]
    }
   ],
   "source": [
    "welcome(\"Rishav\",5,21)\n"
   ]
  },
  {
   "cell_type": "code",
   "execution_count": 18,
   "id": "b031bb35",
   "metadata": {},
   "outputs": [],
   "source": [
    "#Deafult Arguments: In the arguments we can directly give values to that argument and when we call it then\n",
    "# if we skip that particular argument then the function will take the value which is present during its defination\n",
    "def fun1(name,rank,height=\"6'0\"):\n",
    "    for i in range(0,rank):\n",
    "        print(\"{} is {} tall\".format(name,height))"
   ]
  },
  {
   "cell_type": "code",
   "execution_count": 19,
   "id": "4e2e9303",
   "metadata": {},
   "outputs": [
    {
     "name": "stdout",
     "output_type": "stream",
     "text": [
      "Rishav is 6'0 tall\n",
      "Rishav is 6'0 tall\n",
      "Rishav is 6'0 tall\n",
      "Rishav is 6'0 tall\n",
      "Rishav is 6'0 tall\n"
     ]
    }
   ],
   "source": [
    "fun1(\"Rishav\",5)"
   ]
  },
  {
   "cell_type": "code",
   "execution_count": 20,
   "id": "8d5f8416",
   "metadata": {},
   "outputs": [
    {
     "name": "stdout",
     "output_type": "stream",
     "text": [
      "Rishav is 5'7 tall\n",
      "Rishav is 5'7 tall\n",
      "Rishav is 5'7 tall\n"
     ]
    }
   ],
   "source": [
    "fun1(\"Rishav\",3,\"5'7\")"
   ]
  },
  {
   "cell_type": "code",
   "execution_count": null,
   "id": "cf13403d",
   "metadata": {},
   "outputs": [],
   "source": []
  }
 ],
 "metadata": {
  "kernelspec": {
   "display_name": "Python 3 (ipykernel)",
   "language": "python",
   "name": "python3"
  },
  "language_info": {
   "codemirror_mode": {
    "name": "ipython",
    "version": 3
   },
   "file_extension": ".py",
   "mimetype": "text/x-python",
   "name": "python",
   "nbconvert_exporter": "python",
   "pygments_lexer": "ipython3",
   "version": "3.7.9"
  }
 },
 "nbformat": 4,
 "nbformat_minor": 5
}
