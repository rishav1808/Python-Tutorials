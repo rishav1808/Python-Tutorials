{
 "cells": [
  {
   "cell_type": "markdown",
   "id": "b3051108",
   "metadata": {},
   "source": [
    "## Arguments in Functions\n",
    "### 1. Positional Arguments\n",
    "In positional arguments the positon of the arguments is fixed while defining the function which can't be changed and while calling the function, we have to give the suitable arguments just like in C++"
   ]
  },
  {
   "cell_type": "code",
   "execution_count": 1,
   "id": "53ed379e",
   "metadata": {},
   "outputs": [],
   "source": [
    "def fun1(a,b,c):\n",
    "    print(a)\n",
    "    print(b)\n",
    "    print(c)\n",
    "    "
   ]
  },
  {
   "cell_type": "code",
   "execution_count": 2,
   "id": "3f0fb401",
   "metadata": {},
   "outputs": [
    {
     "name": "stdout",
     "output_type": "stream",
     "text": [
      "1\n",
      "2\n",
      "Rishav\n"
     ]
    }
   ],
   "source": [
    "fun1(1,2,\"Rishav\")"
   ]
  },
  {
   "cell_type": "markdown",
   "id": "a28c8f82",
   "metadata": {},
   "source": [
    "### 2. Default Arguments\n",
    "It is a way of defining the function in which we can give default values to certain arguments and while calling the fuction we can skip such arguments and there default value will show up"
   ]
  },
  {
   "cell_type": "code",
   "execution_count": 4,
   "id": "22abf133",
   "metadata": {},
   "outputs": [],
   "source": [
    "def defarg(a,b,c=10):\n",
    "    print(a)\n",
    "    print(b)\n",
    "    print(c)"
   ]
  },
  {
   "cell_type": "code",
   "execution_count": 7,
   "id": "c195032b",
   "metadata": {},
   "outputs": [
    {
     "name": "stdout",
     "output_type": "stream",
     "text": [
      "100\n",
      "200\n",
      "10\n",
      "34\n",
      "Rishav\n",
      "45\n"
     ]
    }
   ],
   "source": [
    "#Calling function without mentioning the value of default argument\n",
    "defarg(100,200)\n",
    "#Calling function after mentioning the value of default argument\n",
    "defarg(34,\"Rishav\",45)"
   ]
  },
  {
   "cell_type": "markdown",
   "id": "ee897b4d",
   "metadata": {},
   "source": [
    "## 3.Keyworded Arguments\n",
    "It is a way of calling the function. Python has a concept where we can call function and define the arguments in any order but we have to especially specify what values are we giving to which argument"
   ]
  },
  {
   "cell_type": "code",
   "execution_count": 8,
   "id": "dc3b8dfe",
   "metadata": {},
   "outputs": [],
   "source": [
    "def keyarg(a,b,c):\n",
    "    print (a,b,c)"
   ]
  },
  {
   "cell_type": "code",
   "execution_count": 10,
   "id": "3c126870",
   "metadata": {},
   "outputs": [
    {
     "name": "stdout",
     "output_type": "stream",
     "text": [
      "20 30 10\n"
     ]
    }
   ],
   "source": [
    "#Calling the function in Keyword style\n",
    "keyarg(c=10,a=20,b=30)"
   ]
  },
  {
   "cell_type": "markdown",
   "id": "8969a512",
   "metadata": {},
   "source": [
    "## Packing Arguments\n",
    "In python we can pack the positional arguments and keyworded arguments \n",
    "### Packing Positional Arguments\n",
    "In print function in Python, we can have any no.of arguments in it.It is made possible because of the concept of Packing of Arguments.In packing of positional arguments,the POSITIONAL arguments are kept in a tuple and then passed to the function using *args keyword"
   ]
  },
  {
   "cell_type": "code",
   "execution_count": 12,
   "id": "c89dfa81",
   "metadata": {},
   "outputs": [],
   "source": [
    "def newargs(a,b,*args):\n",
    "    print(args)"
   ]
  },
  {
   "cell_type": "code",
   "execution_count": 14,
   "id": "a2064784",
   "metadata": {},
   "outputs": [
    {
     "name": "stdout",
     "output_type": "stream",
     "text": [
      "('Rishav', 99)\n"
     ]
    }
   ],
   "source": [
    "newargs(10,20,\"Rishav\",99)"
   ]
  },
  {
   "cell_type": "code",
   "execution_count": 15,
   "id": "1e8482d3",
   "metadata": {},
   "outputs": [],
   "source": [
    "def newargs1(*args):\n",
    "    print(args)"
   ]
  },
  {
   "cell_type": "code",
   "execution_count": 16,
   "id": "a224d6d4",
   "metadata": {},
   "outputs": [
    {
     "name": "stdout",
     "output_type": "stream",
     "text": [
      "(19, 35, 54, 'Daka')\n"
     ]
    }
   ],
   "source": [
    "newargs1(19,35,54,\"Daka\")"
   ]
  },
  {
   "cell_type": "markdown",
   "id": "265db4ce",
   "metadata": {},
   "source": [
    "### Packing Keyworded Arguments\n",
    ".In packing of keyworded arguments,the KEYWORDED arguments are kept in a DICTONARY and then passed to the function using **kwargs keyword"
   ]
  },
  {
   "cell_type": "code",
   "execution_count": 18,
   "id": "665c3f15",
   "metadata": {},
   "outputs": [],
   "source": [
    "def newkwargs(a,b,**kwargs):\n",
    "    print(a,b)\n",
    "    print(kwargs)"
   ]
  },
  {
   "cell_type": "code",
   "execution_count": 19,
   "id": "3e32548d",
   "metadata": {},
   "outputs": [
    {
     "name": "stdout",
     "output_type": "stream",
     "text": [
      "10 20\n",
      "{'c': 235, 'd': 'Youtube'}\n"
     ]
    }
   ],
   "source": [
    "newkwargs(10,20,c=235,d=\"Youtube\")"
   ]
  },
  {
   "cell_type": "code",
   "execution_count": 20,
   "id": "75e57864",
   "metadata": {},
   "outputs": [
    {
     "ename": "SyntaxError",
     "evalue": "positional argument follows keyword argument (Temp/ipykernel_10036/1366756880.py, line 1)",
     "output_type": "error",
     "traceback": [
      "\u001b[1;36m  File \u001b[1;32m\"C:\\Users\\Asus\\AppData\\Local\\Temp/ipykernel_10036/1366756880.py\"\u001b[1;36m, line \u001b[1;32m1\u001b[0m\n\u001b[1;33m    newkwargs(b=20,a=99,f=\"tr\",\"gdf\")\u001b[0m\n\u001b[1;37m                              ^\u001b[0m\n\u001b[1;31mSyntaxError\u001b[0m\u001b[1;31m:\u001b[0m positional argument follows keyword argument\n"
     ]
    }
   ],
   "source": [
    "newkwargs(b=20,a=99,f=\"tr\",\"gdf\")"
   ]
  },
  {
   "cell_type": "code",
   "execution_count": 27,
   "id": "aab27381",
   "metadata": {},
   "outputs": [],
   "source": [
    "def ultifxn(a,b,*args,c=10,d=20,**kwargs):\n",
    "    print(a,b)\n",
    "    print(c,d)\n",
    "    print(args)\n",
    "    print(kwargs)"
   ]
  },
  {
   "cell_type": "code",
   "execution_count": 29,
   "id": "afd3630d",
   "metadata": {},
   "outputs": [
    {
     "name": "stdout",
     "output_type": "stream",
     "text": [
      "99 100\n",
      "10 1\n",
      "(5, 96)\n",
      "{'l': 'lambo', 'p': 'porshe'}\n"
     ]
    }
   ],
   "source": [
    "ultifxn(99,100,5,96,d=1,l=\"lambo\",p=\"porshe\")"
   ]
  },
  {
   "cell_type": "code",
   "execution_count": null,
   "id": "20a7dbb3",
   "metadata": {},
   "outputs": [],
   "source": []
  }
 ],
 "metadata": {
  "kernelspec": {
   "display_name": "Python 3 (ipykernel)",
   "language": "python",
   "name": "python3"
  },
  "language_info": {
   "codemirror_mode": {
    "name": "ipython",
    "version": 3
   },
   "file_extension": ".py",
   "mimetype": "text/x-python",
   "name": "python",
   "nbconvert_exporter": "python",
   "pygments_lexer": "ipython3",
   "version": "3.7.9"
  }
 },
 "nbformat": 4,
 "nbformat_minor": 5
}
