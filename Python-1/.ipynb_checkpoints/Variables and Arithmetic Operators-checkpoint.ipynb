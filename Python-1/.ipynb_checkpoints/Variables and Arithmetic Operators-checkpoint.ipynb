{
 "cells": [
  {
   "cell_type": "markdown",
   "id": "2dca8a2a",
   "metadata": {},
   "source": [
    "# Variables and Arithematic Operators"
   ]
  },
  {
   "cell_type": "code",
   "execution_count": 11,
   "id": "e170e033",
   "metadata": {},
   "outputs": [
    {
     "name": "stdout",
     "output_type": "stream",
     "text": [
      "0.15625\n",
      "0\n",
      "1152921504606846976\n",
      "0.1562\n"
     ]
    }
   ],
   "source": [
    "\"\"\"\n",
    "Arithematic Operators:\n",
    "1.ADD,SUB,MUL,DIV,MODULO\n",
    "Major  data  types: \n",
    "● Numbers\n",
    "● String\n",
    "● Complex\n",
    "● List\n",
    "● Tuple \n",
    "● Dictionary\n",
    "\"\"\"\n",
    "a=10\n",
    "b=64\n",
    "print(a/b)\n",
    "#INTEGER DIVISION\n",
    "print(a//b)\n",
    "#POWER\n",
    "print(b**a)\n",
    "#Precision After Decimal\n",
    "print(\"%0.4f\"%(a/b))\n"
   ]
  },
  {
   "cell_type": "markdown",
   "id": "3d5d7a55",
   "metadata": {},
   "source": [
    "## Multiple Variable Declaration"
   ]
  },
  {
   "cell_type": "code",
   "execution_count": 6,
   "id": "d72633c0",
   "metadata": {},
   "outputs": [
    {
     "name": "stdout",
     "output_type": "stream",
     "text": [
      "59 62.4325 6365\n"
     ]
    }
   ],
   "source": [
    "a,b,c=59,62.4325,6365\n",
    "print(a,b,c)"
   ]
  },
  {
   "cell_type": "code",
   "execution_count": null,
   "id": "77dada6a",
   "metadata": {},
   "outputs": [],
   "source": [
    "\n"
   ]
  },
  {
   "cell_type": "code",
   "execution_count": null,
   "id": "d9e95863",
   "metadata": {},
   "outputs": [],
   "source": []
  }
 ],
 "metadata": {
  "kernelspec": {
   "display_name": "Python 3 (ipykernel)",
   "language": "python",
   "name": "python3"
  },
  "language_info": {
   "codemirror_mode": {
    "name": "ipython",
    "version": 3
   },
   "file_extension": ".py",
   "mimetype": "text/x-python",
   "name": "python",
   "nbconvert_exporter": "python",
   "pygments_lexer": "ipython3",
   "version": "3.7.9"
  }
 },
 "nbformat": 4,
 "nbformat_minor": 5
}
