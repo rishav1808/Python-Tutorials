{
 "cells": [
  {
   "cell_type": "code",
   "execution_count": 1,
   "id": "ac5626d6",
   "metadata": {},
   "outputs": [],
   "source": [
    "#Comments in Python can be done in the following ways: #-->Single line comment and \n",
    "# ''''''-->Triple Quotations for multi line comment. These triple quotations store STRINGS in them "
   ]
  },
  {
   "cell_type": "code",
   "execution_count": 6,
   "id": "b601fcaf",
   "metadata": {},
   "outputs": [
    {
     "name": "stdout",
     "output_type": "stream",
     "text": [
      "(5+3j)\n"
     ]
    },
    {
     "data": {
      "text/plain": [
       "complex"
      ]
     },
     "execution_count": 6,
     "metadata": {},
     "output_type": "execute_result"
    }
   ],
   "source": [
    "'''\n",
    "Basic Data Types in Python\n",
    "1.Numeric : Integer and Float and Complex\n",
    "2.String: No CHAR Data type in python\n",
    "            Single Quote : ' '\n",
    "            Double Quotes: \" \"\n",
    "            Triple Single Quotes : ''' ''''\n",
    "            Triple Double Quotes: \"\"\n",
    "'''\n",
    "co=5+3j\n",
    "print(co)\n",
    "(type(co))"
   ]
  },
  {
   "cell_type": "code",
   "execution_count": null,
   "id": "5ee3afde",
   "metadata": {},
   "outputs": [],
   "source": []
  },
  {
   "cell_type": "code",
   "execution_count": null,
   "id": "4471e2f2",
   "metadata": {},
   "outputs": [],
   "source": []
  }
 ],
 "metadata": {
  "kernelspec": {
   "display_name": "Python 3 (ipykernel)",
   "language": "python",
   "name": "python3"
  },
  "language_info": {
   "codemirror_mode": {
    "name": "ipython",
    "version": 3
   },
   "file_extension": ".py",
   "mimetype": "text/x-python",
   "name": "python",
   "nbconvert_exporter": "python",
   "pygments_lexer": "ipython3",
   "version": "3.7.9"
  }
 },
 "nbformat": 4,
 "nbformat_minor": 5
}
