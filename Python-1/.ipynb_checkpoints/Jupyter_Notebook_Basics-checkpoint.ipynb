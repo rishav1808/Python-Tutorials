{
 "cells": [
  {
   "cell_type": "code",
   "execution_count": 1,
   "id": "a251c44e",
   "metadata": {},
   "outputs": [
    {
     "name": "stdout",
     "output_type": "stream",
     "text": [
      "Hi Rishav\n"
     ]
    }
   ],
   "source": [
    "print(\"Hi Rishav\")\n"
   ]
  },
  {
   "cell_type": "code",
   "execution_count": 2,
   "id": "3eeedd2a",
   "metadata": {},
   "outputs": [
    {
     "name": "stdout",
     "output_type": "stream",
     "text": [
      "1.6666666666666667\n"
     ]
    }
   ],
   "source": [
    "a=10\n",
    "b=6\n",
    "print(a/b)"
   ]
  },
  {
   "cell_type": "code",
   "execution_count": 3,
   "id": "842a42ae",
   "metadata": {},
   "outputs": [],
   "source": [
    "#To Execute a cell press (Shift+Enter)\n"
   ]
  },
  {
   "cell_type": "markdown",
   "id": "4e145143",
   "metadata": {},
   "source": [
    "This is a Markdown cell which is just used to write some Text\n"
   ]
  },
  {
   "cell_type": "markdown",
   "id": "bd2c7f6b",
   "metadata": {},
   "source": [
    "\n",
    "### Coverting Code Cell to Markdown Cell shortcut\n",
    "\n",
    "## Shortcut : Esc,M Shift+Enter\n",
    "\n",
    "### Markdown Cell to Code cell\n",
    "\n",
    "### Shortcut:Esc,Y Shift+Enter\n",
    "### To remove a Cell --> Esc,DD\n",
    "### Add a cell above the current one-->Esc,A\n",
    "### Add a cell below the current one-->Esc,D\n",
    "\n",
    "To get BOLD Text use \"#\"/\"##\"/\"###\" with a space. 1 '#' means larger font and 3'###' means smaller\n",
    "### Change themes of Jupyter Notebook by using jt -t monokai(or some other ) . jt -l lists all the themes available\n",
    "\n",
    "# Always Remember: Keep the order of cells in mind\n"
   ]
  },
  {
   "cell_type": "markdown",
   "id": "a049b643",
   "metadata": {},
   "source": [
    "\n"
   ]
  },
  {
   "cell_type": "code",
   "execution_count": null,
   "id": "a1c34715",
   "metadata": {},
   "outputs": [],
   "source": []
  }
 ],
 "metadata": {
  "kernelspec": {
   "display_name": "Python 3 (ipykernel)",
   "language": "python",
   "name": "python3"
  },
  "language_info": {
   "codemirror_mode": {
    "name": "ipython",
    "version": 3
   },
   "file_extension": ".py",
   "mimetype": "text/x-python",
   "name": "python",
   "nbconvert_exporter": "python",
   "pygments_lexer": "ipython3",
   "version": "3.7.9"
  }
 },
 "nbformat": 4,
 "nbformat_minor": 5
}
