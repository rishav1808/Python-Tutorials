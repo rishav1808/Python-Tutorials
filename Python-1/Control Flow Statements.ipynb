{
 "cells": [
  {
   "cell_type": "markdown",
   "id": "4119c4f3",
   "metadata": {},
   "source": [
    "## Control Flow Statements\n",
    "### 1. If -->do this,  elif--> do that , else -->whatever\n",
    "### 2. While Loop      For ___  in ____    {For Itreator in Itretables}"
   ]
  },
  {
   "cell_type": "code",
   "execution_count": 1,
   "id": "714dc58f",
   "metadata": {},
   "outputs": [
    {
     "name": "stdout",
     "output_type": "stream",
     "text": [
      "Positive\n"
     ]
    }
   ],
   "source": [
    "a=10\n",
    "if(a <0):\n",
    "    print(\"Negative\")\n",
    "elif (a>0):\n",
    "    print(\"Positive\")\n",
    "else :\n",
    "    print(\"Zero\")"
   ]
  },
  {
   "cell_type": "code",
   "execution_count": 5,
   "id": "cd3af15e",
   "metadata": {},
   "outputs": [
    {
     "name": "stdout",
     "output_type": "stream",
     "text": [
      "10\n",
      "9\n",
      "8\n",
      "7\n",
      "6\n",
      "5\n",
      "4\n",
      "3\n",
      "2\n",
      "1\n"
     ]
    }
   ],
   "source": [
    "while (a>0):\n",
    "    print(a)\n",
    "    a=a-1"
   ]
  },
  {
   "cell_type": "code",
   "execution_count": 6,
   "id": "18dd6c74",
   "metadata": {},
   "outputs": [
    {
     "name": "stdout",
     "output_type": "stream",
     "text": [
      "0\n"
     ]
    }
   ],
   "source": [
    "print(a)"
   ]
  },
  {
   "cell_type": "code",
   "execution_count": 10,
   "id": "36bb19ec",
   "metadata": {},
   "outputs": [
    {
     "name": "stdout",
     "output_type": "stream",
     "text": [
      "R\n",
      "i\n",
      "s\n",
      "h\n",
      "a\n",
      "v\n",
      "_\n",
      "R\n",
      "a\n",
      "j\n",
      "0\n",
      "1\n",
      "2\n",
      "3\n",
      "4\n",
      "4\n",
      "10\n",
      "16\n",
      "22\n",
      "28\n",
      "34\n",
      "40\n",
      "46\n",
      "52\n",
      "58\n",
      "64\n",
      "70\n",
      "76\n",
      "82\n",
      "88\n",
      "94\n",
      "100\n"
     ]
    }
   ],
   "source": [
    "a=100\n",
    "b=5\n",
    "for i in \"Rishav_Raj\":\n",
    "    print(i)\n",
    "for i in range(0,b):\n",
    "    print(i)\n",
    "for i in range(1,a+1,3):\n",
    "    if(i%2==0):\n",
    "        print(i)\n",
    "    "
   ]
  },
  {
   "cell_type": "code",
   "execution_count": null,
   "id": "949d1181",
   "metadata": {},
   "outputs": [],
   "source": []
  }
 ],
 "metadata": {
  "kernelspec": {
   "display_name": "Python 3 (ipykernel)",
   "language": "python",
   "name": "python3"
  },
  "language_info": {
   "codemirror_mode": {
    "name": "ipython",
    "version": 3
   },
   "file_extension": ".py",
   "mimetype": "text/x-python",
   "name": "python",
   "nbconvert_exporter": "python",
   "pygments_lexer": "ipython3",
   "version": "3.7.9"
  }
 },
 "nbformat": 4,
 "nbformat_minor": 5
}
