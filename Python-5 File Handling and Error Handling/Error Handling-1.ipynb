{
 "cells": [
  {
   "cell_type": "markdown",
   "id": "b2c5216a",
   "metadata": {},
   "source": [
    "## Error Handling\n",
    "Error and Exception occasionaly occur in our code\n",
    "Error : Some problem that occur during Compliation Time (Syntactical Error etc.)\n",
    "Exception: Some anomoly that occur at the Run Time(Dividing by Zero etc.)"
   ]
  },
  {
   "cell_type": "code",
   "execution_count": 1,
   "id": "7ba9e2f6",
   "metadata": {},
   "outputs": [],
   "source": [
    "def fun1(a,b):\n",
    "    try:\n",
    "        print(a/b)\n",
    "    except:\n",
    "        print(\"Some error\")"
   ]
  },
  {
   "cell_type": "code",
   "execution_count": 2,
   "id": "b1b9dcc0",
   "metadata": {},
   "outputs": [
    {
     "name": "stdout",
     "output_type": "stream",
     "text": [
      "0.6666666666666666\n"
     ]
    }
   ],
   "source": [
    "fun1(2,3)"
   ]
  },
  {
   "cell_type": "code",
   "execution_count": 3,
   "id": "0173ee8a",
   "metadata": {},
   "outputs": [
    {
     "name": "stdout",
     "output_type": "stream",
     "text": [
      "Some error\n"
     ]
    }
   ],
   "source": [
    "fun1(2,0)"
   ]
  },
  {
   "cell_type": "markdown",
   "id": "8779abde",
   "metadata": {},
   "source": [
    "- try: The code which executes and probably throw some error\n",
    "- Except:If some Exception occurs then we execute the exception block\n",
    "In Exception we can mention any particular error to be expected or can derive from the Expection Class"
   ]
  },
  {
   "cell_type": "code",
   "execution_count": 5,
   "id": "10df2409",
   "metadata": {},
   "outputs": [],
   "source": [
    "def fun2(a,b):\n",
    "    print(a/b)"
   ]
  },
  {
   "cell_type": "code",
   "execution_count": 6,
   "id": "f63a8e14",
   "metadata": {},
   "outputs": [
    {
     "ename": "ZeroDivisionError",
     "evalue": "division by zero",
     "output_type": "error",
     "traceback": [
      "\u001b[1;31m---------------------------------------------------------------------------\u001b[0m",
      "\u001b[1;31mZeroDivisionError\u001b[0m                         Traceback (most recent call last)",
      "\u001b[1;32m~\\AppData\\Local\\Temp/ipykernel_16140/1529513682.py\u001b[0m in \u001b[0;36m<module>\u001b[1;34m\u001b[0m\n\u001b[1;32m----> 1\u001b[1;33m \u001b[0mfun2\u001b[0m\u001b[1;33m(\u001b[0m\u001b[1;36m2\u001b[0m\u001b[1;33m,\u001b[0m\u001b[1;36m0\u001b[0m\u001b[1;33m)\u001b[0m\u001b[1;33m\u001b[0m\u001b[1;33m\u001b[0m\u001b[0m\n\u001b[0m",
      "\u001b[1;32m~\\AppData\\Local\\Temp/ipykernel_16140/2117867897.py\u001b[0m in \u001b[0;36mfun2\u001b[1;34m(a, b)\u001b[0m\n\u001b[0;32m      1\u001b[0m \u001b[1;32mdef\u001b[0m \u001b[0mfun2\u001b[0m\u001b[1;33m(\u001b[0m\u001b[0ma\u001b[0m\u001b[1;33m,\u001b[0m\u001b[0mb\u001b[0m\u001b[1;33m)\u001b[0m\u001b[1;33m:\u001b[0m\u001b[1;33m\u001b[0m\u001b[1;33m\u001b[0m\u001b[0m\n\u001b[1;32m----> 2\u001b[1;33m     \u001b[0mprint\u001b[0m\u001b[1;33m(\u001b[0m\u001b[0ma\u001b[0m\u001b[1;33m/\u001b[0m\u001b[0mb\u001b[0m\u001b[1;33m)\u001b[0m\u001b[1;33m\u001b[0m\u001b[1;33m\u001b[0m\u001b[0m\n\u001b[0m",
      "\u001b[1;31mZeroDivisionError\u001b[0m: division by zero"
     ]
    }
   ],
   "source": [
    "fun2(2,0)"
   ]
  },
  {
   "cell_type": "code",
   "execution_count": 15,
   "id": "c75d3ed1",
   "metadata": {},
   "outputs": [],
   "source": [
    "def fun3(a,b):\n",
    "    try:\n",
    "        print(a/b)\n",
    "    except ZeroDivisionError:\n",
    "        print(\"ZeroDivisionError\")\n",
    "        print(\"Hello\")\n",
    "    print(\"Hi\")"
   ]
  },
  {
   "cell_type": "code",
   "execution_count": 17,
   "id": "ea4dc2e5",
   "metadata": {},
   "outputs": [
    {
     "name": "stdout",
     "output_type": "stream",
     "text": [
      "ZeroDivisionError\n",
      "Hello\n",
      "Hi\n"
     ]
    }
   ],
   "source": [
    "fun3(1,0)"
   ]
  },
  {
   "cell_type": "code",
   "execution_count": 28,
   "id": "5bb2da16",
   "metadata": {},
   "outputs": [],
   "source": [
    "def fun4(a,b):\n",
    "    try:\n",
    "        print(int(\"Rishav\"))\n",
    "        print(a/0)\n",
    "    except ZeroDivisionError:  #Apart from Zero Divison ,NameError also occurs and we didn't handle it here\n",
    "        print(\"Meh\")"
   ]
  },
  {
   "cell_type": "code",
   "execution_count": 30,
   "id": "e967dfa5",
   "metadata": {},
   "outputs": [
    {
     "ename": "ValueError",
     "evalue": "invalid literal for int() with base 10: 'Rishav'",
     "output_type": "error",
     "traceback": [
      "\u001b[1;31m---------------------------------------------------------------------------\u001b[0m",
      "\u001b[1;31mValueError\u001b[0m                                Traceback (most recent call last)",
      "\u001b[1;32m~\\AppData\\Local\\Temp/ipykernel_16140/905598323.py\u001b[0m in \u001b[0;36m<module>\u001b[1;34m\u001b[0m\n\u001b[1;32m----> 1\u001b[1;33m \u001b[0mfun4\u001b[0m\u001b[1;33m(\u001b[0m\u001b[1;36m2\u001b[0m\u001b[1;33m,\u001b[0m\u001b[1;36m3\u001b[0m\u001b[1;33m)\u001b[0m\u001b[1;33m\u001b[0m\u001b[1;33m\u001b[0m\u001b[0m\n\u001b[0m",
      "\u001b[1;32m~\\AppData\\Local\\Temp/ipykernel_16140/2622650359.py\u001b[0m in \u001b[0;36mfun4\u001b[1;34m(a, b)\u001b[0m\n\u001b[0;32m      1\u001b[0m \u001b[1;32mdef\u001b[0m \u001b[0mfun4\u001b[0m\u001b[1;33m(\u001b[0m\u001b[0ma\u001b[0m\u001b[1;33m,\u001b[0m\u001b[0mb\u001b[0m\u001b[1;33m)\u001b[0m\u001b[1;33m:\u001b[0m\u001b[1;33m\u001b[0m\u001b[1;33m\u001b[0m\u001b[0m\n\u001b[0;32m      2\u001b[0m     \u001b[1;32mtry\u001b[0m\u001b[1;33m:\u001b[0m\u001b[1;33m\u001b[0m\u001b[1;33m\u001b[0m\u001b[0m\n\u001b[1;32m----> 3\u001b[1;33m         \u001b[0mprint\u001b[0m\u001b[1;33m(\u001b[0m\u001b[0mint\u001b[0m\u001b[1;33m(\u001b[0m\u001b[1;34m\"Rishav\"\u001b[0m\u001b[1;33m)\u001b[0m\u001b[1;33m)\u001b[0m\u001b[1;33m\u001b[0m\u001b[1;33m\u001b[0m\u001b[0m\n\u001b[0m\u001b[0;32m      4\u001b[0m \u001b[1;33m\u001b[0m\u001b[0m\n\u001b[0;32m      5\u001b[0m     \u001b[1;32mexcept\u001b[0m \u001b[0mZeroDivisionError\u001b[0m\u001b[1;33m:\u001b[0m  \u001b[1;31m#Apart from Zero Divison ,NameError also occurs and we didn't handle it here\u001b[0m\u001b[1;33m\u001b[0m\u001b[1;33m\u001b[0m\u001b[0m\n",
      "\u001b[1;31mValueError\u001b[0m: invalid literal for int() with base 10: 'Rishav'"
     ]
    }
   ],
   "source": [
    "fun4(2,3)"
   ]
  },
  {
   "cell_type": "code",
   "execution_count": 33,
   "id": "fd01c0b6",
   "metadata": {},
   "outputs": [],
   "source": [
    "def fun5(a,b):\n",
    "    try:\n",
    "        print(int(\"Rishav\"))\n",
    "        print(a/0)\n",
    "    except Exception as e: #Here all the Exceptions under the Exception class are handled\n",
    "        print(\"Meh\")"
   ]
  },
  {
   "cell_type": "code",
   "execution_count": 34,
   "id": "1ec09d78",
   "metadata": {},
   "outputs": [
    {
     "name": "stdout",
     "output_type": "stream",
     "text": [
      "Meh\n"
     ]
    }
   ],
   "source": [
    "fun5(2,3)"
   ]
  },
  {
   "cell_type": "code",
   "execution_count": null,
   "id": "65cd292c",
   "metadata": {},
   "outputs": [],
   "source": [
    "#User based Exceptions\n"
   ]
  }
 ],
 "metadata": {
  "kernelspec": {
   "display_name": "Python 3 (ipykernel)",
   "language": "python",
   "name": "python3"
  },
  "language_info": {
   "codemirror_mode": {
    "name": "ipython",
    "version": 3
   },
   "file_extension": ".py",
   "mimetype": "text/x-python",
   "name": "python",
   "nbconvert_exporter": "python",
   "pygments_lexer": "ipython3",
   "version": "3.7.9"
  }
 },
 "nbformat": 4,
 "nbformat_minor": 5
}
