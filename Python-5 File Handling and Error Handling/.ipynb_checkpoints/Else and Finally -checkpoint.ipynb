{
 "cells": [
  {
   "cell_type": "markdown",
   "id": "cdc95720",
   "metadata": {},
   "source": [
    "### Some other methods\n",
    "-else : When try block does not throw a error then else block executes\n",
    "-finally: This block always execute regardless of what is written"
   ]
  },
  {
   "cell_type": "code",
   "execution_count": 3,
   "id": "67e6e3e6",
   "metadata": {},
   "outputs": [
    {
     "name": "stdout",
     "output_type": "stream",
     "text": [
      "Try block executed\n",
      "Else executed\n",
      "Finally block executed\n"
     ]
    }
   ],
   "source": [
    "try:\n",
    "    print(\"Try block executed\")\n",
    "except:\n",
    "    print(\"Error occured\")\n",
    "else:\n",
    "    print(\"Else executed\")\n",
    "finally:\n",
    "    print(\"Finally block executed\")\n",
    "    "
   ]
  },
  {
   "cell_type": "code",
   "execution_count": 4,
   "id": "3925be34",
   "metadata": {},
   "outputs": [
    {
     "name": "stdout",
     "output_type": "stream",
     "text": [
      "Try block executed\n",
      "Error occured\n",
      "Finally block executed\n"
     ]
    }
   ],
   "source": [
    "try:\n",
    "    print(\"Try block executed\")\n",
    "    print(10/0)\n",
    "except:\n",
    "    print(\"Error occured\")\n",
    "else:\n",
    "    print(\"Else executed\")\n",
    "finally:\n",
    "    print(\"Finally block executed\")"
   ]
  },
  {
   "cell_type": "code",
   "execution_count": null,
   "id": "dc36935c",
   "metadata": {},
   "outputs": [],
   "source": []
  }
 ],
 "metadata": {
  "kernelspec": {
   "display_name": "Python 3 (ipykernel)",
   "language": "python",
   "name": "python3"
  },
  "language_info": {
   "codemirror_mode": {
    "name": "ipython",
    "version": 3
   },
   "file_extension": ".py",
   "mimetype": "text/x-python",
   "name": "python",
   "nbconvert_exporter": "python",
   "pygments_lexer": "ipython3",
   "version": "3.7.9"
  }
 },
 "nbformat": 4,
 "nbformat_minor": 5
}
