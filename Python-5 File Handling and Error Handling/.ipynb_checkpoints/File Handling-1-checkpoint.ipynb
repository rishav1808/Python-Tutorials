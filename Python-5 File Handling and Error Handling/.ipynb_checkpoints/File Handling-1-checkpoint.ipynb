{
 "cells": [
  {
   "cell_type": "code",
   "execution_count": null,
   "id": "147b2d58",
   "metadata": {},
   "outputs": [],
   "source": [
    "'''\n",
    "    In file handling we basically open, read, write, append and close the file present on our systems\n",
    "    The file is passed as an object and there are various methods to call :\n",
    "    1. read only(\"r\")-->This reads the file and if file does not exists then it calls error\n",
    "    2. write only(\"w\")-->If file is present then it truncates the file and writes the text from scratch\n",
    "                    and if file is not found then it creates a new file\n",
    "    3.append only(\"a\")-->Points to where the contents of the file end and starts writting after that\n",
    "    4.read and write(\"r+\")-->Open the file for reading and writing.The handle is positioned at beginning\n",
    "                            of the file.Raises I/O error if file does not exists\n",
    "    5.write and read(\"w+\")-->Open the file for reading and writing.If file present then truncates the file and \n",
    "                            and over-writes it and handle is positioned at the beginning.Creates new file if no file is found\n",
    "    6.append and Read(\"a+\")-->Handle is positioned at the end of file,reads and writes the file\n",
    "'''"
   ]
  },
  {
   "cell_type": "code",
   "execution_count": 14,
   "id": "3f7c4243",
   "metadata": {},
   "outputs": [
    {
     "data": {
      "text/plain": [
       "'hi my name is what?'"
      ]
     },
     "execution_count": 14,
     "metadata": {},
     "output_type": "execute_result"
    }
   ],
   "source": [
    "file =open(\"sample.txt\",\"r\")\n",
    "file.read()"
   ]
  },
  {
   "cell_type": "code",
   "execution_count": 19,
   "id": "7b2d2193",
   "metadata": {},
   "outputs": [
    {
     "data": {
      "text/plain": [
       "'hi my'"
      ]
     },
     "execution_count": 19,
     "metadata": {},
     "output_type": "execute_result"
    }
   ],
   "source": [
    "file.close()\n",
    "file =open(\"sample.txt\",\"r\")\n",
    "file.read(5) #Number of bytes to be read from the file\n",
    "\n"
   ]
  },
  {
   "cell_type": "code",
   "execution_count": 20,
   "id": "ca69cbad",
   "metadata": {},
   "outputs": [],
   "source": [
    "file.close()"
   ]
  },
  {
   "cell_type": "code",
   "execution_count": 22,
   "id": "20ee3cf1",
   "metadata": {},
   "outputs": [
    {
     "data": {
      "text/plain": [
       "35"
      ]
     },
     "execution_count": 22,
     "metadata": {},
     "output_type": "execute_result"
    }
   ],
   "source": [
    "file=open(\"Non_Existing_file.txt\",\"w\")#Creates a new File\n",
    "file.write(\"Data Science seems to be pretty fun\")#Writes in it"
   ]
  },
  {
   "cell_type": "code",
   "execution_count": 24,
   "id": "2731f58f",
   "metadata": {},
   "outputs": [],
   "source": [
    "file.close()"
   ]
  },
  {
   "cell_type": "code",
   "execution_count": 26,
   "id": "fb7ae203",
   "metadata": {},
   "outputs": [
    {
     "data": {
      "text/plain": [
       "'hi my name is what?\\n'"
      ]
     },
     "execution_count": 26,
     "metadata": {},
     "output_type": "execute_result"
    }
   ],
   "source": [
    "f=open(\"sample.txt\",\"r\")\n",
    "f.readline() #readline() function reads the file one line at a time.If this function is called one time \n",
    "                #then only 1 line would be read.To read nextLine we have to call the function again"
   ]
  },
  {
   "cell_type": "markdown",
   "id": "6dd919f1",
   "metadata": {},
   "source": [
    "## Ways to read a file\n",
    "### 1. read--> just reads the entire file\n",
    "### 2. readline()-->when called once,just reads one line at a time\n",
    "### 3.readlines()-->returns a list where elements of the list are the seprate lines of the file"
   ]
  },
  {
   "cell_type": "code",
   "execution_count": 27,
   "id": "2b8580c3",
   "metadata": {},
   "outputs": [
    {
     "data": {
      "text/plain": [
       "\"You probably don't know\\n\""
      ]
     },
     "execution_count": 27,
     "metadata": {},
     "output_type": "execute_result"
    }
   ],
   "source": [
    "\n",
    "f.readline()"
   ]
  },
  {
   "cell_type": "code",
   "execution_count": 28,
   "id": "adee8527",
   "metadata": {},
   "outputs": [
    {
     "data": {
      "text/plain": [
       "['If u did u would have guessed it by now\\n', 'nincompoop']"
      ]
     },
     "execution_count": 28,
     "metadata": {},
     "output_type": "execute_result"
    }
   ],
   "source": [
    "f.readlines() #Returns a list containing all lines of the file"
   ]
  },
  {
   "cell_type": "code",
   "execution_count": 29,
   "id": "b754d2d4",
   "metadata": {},
   "outputs": [],
   "source": [
    "f.close()"
   ]
  },
  {
   "cell_type": "markdown",
   "id": "7c36ff8b",
   "metadata": {},
   "source": [
    "### seek()-->This method is used to move the curser while handling the files"
   ]
  },
  {
   "cell_type": "code",
   "execution_count": 33,
   "id": "d8a3bea5",
   "metadata": {},
   "outputs": [
    {
     "data": {
      "text/plain": [
       "'hi my'"
      ]
     },
     "execution_count": 33,
     "metadata": {},
     "output_type": "execute_result"
    }
   ],
   "source": [
    "file =open(\"sample.txt\",\"r\")\n",
    "file.read(5)"
   ]
  },
  {
   "cell_type": "code",
   "execution_count": 34,
   "id": "49c40646",
   "metadata": {},
   "outputs": [
    {
     "data": {
      "text/plain": [
       "\" name is what?\\nYou probably don't know\\nIf u did u would have guessed it by now\\nnincompoop\""
      ]
     },
     "execution_count": 34,
     "metadata": {},
     "output_type": "execute_result"
    }
   ],
   "source": [
    "file.read()\n",
    "\n",
    "# Here after the first call of .read() function the cursor was at 6th byte so that's\n",
    "            #why it starts reading from the 6th byte till the end"
   ]
  },
  {
   "cell_type": "code",
   "execution_count": null,
   "id": "bf4ec65f",
   "metadata": {},
   "outputs": [],
   "source": [
    "#Now to move the cursor at desired position , we can us \"seek()\" method"
   ]
  },
  {
   "cell_type": "code",
   "execution_count": 35,
   "id": "67221678",
   "metadata": {},
   "outputs": [
    {
     "data": {
      "text/plain": [
       "\"hi my name is what?\\nYou probably don't know\\nIf u did u would have guessed it by now\\nnincompoop\""
      ]
     },
     "execution_count": 35,
     "metadata": {},
     "output_type": "execute_result"
    }
   ],
   "source": [
    "file.seek(0)\n",
    "file.read()"
   ]
  },
  {
   "cell_type": "code",
   "execution_count": 36,
   "id": "2c7b468e",
   "metadata": {},
   "outputs": [],
   "source": [
    "file.close()"
   ]
  },
  {
   "cell_type": "markdown",
   "id": "65245609",
   "metadata": {},
   "source": [
    "## Better way of handling files\n",
    "### we can use the with keyword .In this new method we don't have to close the file\n"
   ]
  },
  {
   "cell_type": "code",
   "execution_count": 40,
   "id": "e3b5b459",
   "metadata": {},
   "outputs": [
    {
     "name": "stdout",
     "output_type": "stream",
     "text": [
      "hi my\n",
      " is what?\n",
      "You probably don't know\n",
      "If u did u would have guessed it by now\n",
      "nincompoop\n"
     ]
    },
    {
     "ename": "ValueError",
     "evalue": "I/O operation on closed file.",
     "output_type": "error",
     "traceback": [
      "\u001b[1;31m---------------------------------------------------------------------------\u001b[0m",
      "\u001b[1;31mValueError\u001b[0m                                Traceback (most recent call last)",
      "\u001b[1;32m~\\AppData\\Local\\Temp/ipykernel_7340/3582460766.py\u001b[0m in \u001b[0;36m<module>\u001b[1;34m\u001b[0m\n\u001b[0;32m      3\u001b[0m     \u001b[0mfile\u001b[0m\u001b[1;33m.\u001b[0m\u001b[0mseek\u001b[0m\u001b[1;33m(\u001b[0m\u001b[1;36m10\u001b[0m\u001b[1;33m)\u001b[0m\u001b[1;33m\u001b[0m\u001b[1;33m\u001b[0m\u001b[0m\n\u001b[0;32m      4\u001b[0m     \u001b[0mprint\u001b[0m\u001b[1;33m(\u001b[0m\u001b[0mfile\u001b[0m\u001b[1;33m.\u001b[0m\u001b[0mread\u001b[0m\u001b[1;33m(\u001b[0m\u001b[1;33m)\u001b[0m\u001b[1;33m)\u001b[0m\u001b[1;33m\u001b[0m\u001b[1;33m\u001b[0m\u001b[0m\n\u001b[1;32m----> 5\u001b[1;33m \u001b[0mprint\u001b[0m\u001b[1;33m(\u001b[0m\u001b[0mfile\u001b[0m\u001b[1;33m.\u001b[0m\u001b[0mread\u001b[0m\u001b[1;33m(\u001b[0m\u001b[1;33m)\u001b[0m\u001b[1;33m)\u001b[0m\u001b[1;33m\u001b[0m\u001b[1;33m\u001b[0m\u001b[0m\n\u001b[0m",
      "\u001b[1;31mValueError\u001b[0m: I/O operation on closed file."
     ]
    }
   ],
   "source": [
    "with open(\"sample.txt\",\"r\") as file:\n",
    "    print(file.read(5))\n",
    "    file.seek(10)\n",
    "    print(file.read())\n",
    "print(file.read())  # Here error is shown coz file handling can only be done inside the 'with_as' blocl\n",
    "                    #The benefit of this method is that we don't have to close the file"
   ]
  },
  {
   "cell_type": "code",
   "execution_count": null,
   "id": "7f734c1d",
   "metadata": {},
   "outputs": [],
   "source": []
  }
 ],
 "metadata": {
  "kernelspec": {
   "display_name": "Python 3 (ipykernel)",
   "language": "python",
   "name": "python3"
  },
  "language_info": {
   "codemirror_mode": {
    "name": "ipython",
    "version": 3
   },
   "file_extension": ".py",
   "mimetype": "text/x-python",
   "name": "python",
   "nbconvert_exporter": "python",
   "pygments_lexer": "ipython3",
   "version": "3.7.9"
  }
 },
 "nbformat": 4,
 "nbformat_minor": 5
}
