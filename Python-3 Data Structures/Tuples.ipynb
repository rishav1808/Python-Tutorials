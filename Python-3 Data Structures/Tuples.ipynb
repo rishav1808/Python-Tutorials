{
 "cells": [
  {
   "cell_type": "markdown",
   "id": "2526e02a",
   "metadata": {},
   "source": [
    "## Tuples\n",
    "Tuples a data structure similar to list but the difference between list and tuple is that tuples are immutable i.e. elements of tuple can't be changed.\n",
    "Another difference is that tuples can't be accessed by indexes."
   ]
  },
  {
   "cell_type": "code",
   "execution_count": 3,
   "id": "cb6f8ed3",
   "metadata": {},
   "outputs": [],
   "source": [
    "t=(1,2,3,4)"
   ]
  },
  {
   "cell_type": "code",
   "execution_count": 2,
   "id": "1c134e2f",
   "metadata": {},
   "outputs": [
    {
     "ename": "AttributeError",
     "evalue": "'tuple' object has no attribute 'pop'",
     "output_type": "error",
     "traceback": [
      "\u001b[1;31m---------------------------------------------------------------------------\u001b[0m",
      "\u001b[1;31mAttributeError\u001b[0m                            Traceback (most recent call last)",
      "\u001b[1;32m~\\AppData\\Local\\Temp/ipykernel_4208/4282651516.py\u001b[0m in \u001b[0;36m<module>\u001b[1;34m\u001b[0m\n\u001b[1;32m----> 1\u001b[1;33m \u001b[0mt\u001b[0m\u001b[1;33m.\u001b[0m\u001b[0mpop\u001b[0m\u001b[1;33m(\u001b[0m\u001b[1;36m0\u001b[0m\u001b[1;33m)\u001b[0m\u001b[1;33m\u001b[0m\u001b[1;33m\u001b[0m\u001b[0m\n\u001b[0m",
      "\u001b[1;31mAttributeError\u001b[0m: 'tuple' object has no attribute 'pop'"
     ]
    }
   ],
   "source": [
    "t.pop(0) #Immutable property"
   ]
  },
  {
   "cell_type": "code",
   "execution_count": 4,
   "id": "425a1640",
   "metadata": {},
   "outputs": [
    {
     "ename": "TypeError",
     "evalue": "'tuple' object does not support item assignment",
     "output_type": "error",
     "traceback": [
      "\u001b[1;31m---------------------------------------------------------------------------\u001b[0m",
      "\u001b[1;31mTypeError\u001b[0m                                 Traceback (most recent call last)",
      "\u001b[1;32m~\\AppData\\Local\\Temp/ipykernel_4208/1155318071.py\u001b[0m in \u001b[0;36m<module>\u001b[1;34m\u001b[0m\n\u001b[1;32m----> 1\u001b[1;33m \u001b[0mt\u001b[0m\u001b[1;33m[\u001b[0m\u001b[1;36m1\u001b[0m\u001b[1;33m]\u001b[0m\u001b[1;33m=\u001b[0m\u001b[1;36m9\u001b[0m\u001b[1;33m\u001b[0m\u001b[1;33m\u001b[0m\u001b[0m\n\u001b[0m",
      "\u001b[1;31mTypeError\u001b[0m: 'tuple' object does not support item assignment"
     ]
    }
   ],
   "source": [
    "t[1]=9 #Immutable Property"
   ]
  },
  {
   "cell_type": "code",
   "execution_count": 10,
   "id": "892cffdb",
   "metadata": {},
   "outputs": [],
   "source": [
    "def func(*args):\n",
    "    print(args) #function returns a tuple of values"
   ]
  },
  {
   "cell_type": "code",
   "execution_count": 11,
   "id": "7ef2a829",
   "metadata": {},
   "outputs": [
    {
     "name": "stdout",
     "output_type": "stream",
     "text": [
      "(9, 4, 1, 2, 5)\n"
     ]
    }
   ],
   "source": [
    "func(9,4,1,2,5) "
   ]
  },
  {
   "cell_type": "code",
   "execution_count": 12,
   "id": "05b91841",
   "metadata": {},
   "outputs": [
    {
     "name": "stdout",
     "output_type": "stream",
     "text": [
      "7 5\n"
     ]
    }
   ],
   "source": [
    "#Swaping of 2 nos.\n",
    "#Method-1\n",
    "a=5\n",
    "b=7\n",
    "a=a+b\n",
    "b=a-b\n",
    "a=a-b\n",
    "print(a,b)"
   ]
  },
  {
   "cell_type": "code",
   "execution_count": 14,
   "id": "697db608",
   "metadata": {},
   "outputs": [
    {
     "name": "stdout",
     "output_type": "stream",
     "text": [
      "7 5\n"
     ]
    }
   ],
   "source": [
    "#Method-2\n",
    "a=5\n",
    "b=7\n",
    "a=a^b\n",
    "b=a^b\n",
    "a=a^b\n",
    "print(a,b)"
   ]
  },
  {
   "cell_type": "code",
   "execution_count": 15,
   "id": "91822776",
   "metadata": {},
   "outputs": [
    {
     "name": "stdout",
     "output_type": "stream",
     "text": [
      "5 6\n"
     ]
    }
   ],
   "source": [
    "#Special property of Tuples is that we can declare tuples on the left side and right of the assignment '='\n",
    "a=(5,6)\n",
    "b,c=a\n",
    "b=b+\n",
    "print(b,c)"
   ]
  },
  {
   "cell_type": "code",
   "execution_count": 16,
   "id": "d853aedf",
   "metadata": {},
   "outputs": [
    {
     "name": "stdout",
     "output_type": "stream",
     "text": [
      "10 5\n"
     ]
    }
   ],
   "source": [
    "#So we can easily swap 2 variables using TUPLES\n",
    "#Method-3  But this method is only PYTHON Specific\n",
    "a=5\n",
    "b=10\n",
    "a,b=b,a\n",
    "print(a,b)"
   ]
  },
  {
   "cell_type": "code",
   "execution_count": 18,
   "id": "1e23a56a",
   "metadata": {},
   "outputs": [],
   "source": [
    "def addsub(a,b):\n",
    "    return(a+b,a-b)"
   ]
  },
  {
   "cell_type": "code",
   "execution_count": 19,
   "id": "3d5cc20c",
   "metadata": {},
   "outputs": [
    {
     "data": {
      "text/plain": [
       "(7, 3)"
      ]
     },
     "execution_count": 19,
     "metadata": {},
     "output_type": "execute_result"
    }
   ],
   "source": [
    "addsub(5,2) # Returns a tuple of values"
   ]
  },
  {
   "cell_type": "code",
   "execution_count": 22,
   "id": "49da2713",
   "metadata": {},
   "outputs": [
    {
     "name": "stdout",
     "output_type": "stream",
     "text": [
      "17\n",
      "3\n"
     ]
    }
   ],
   "source": [
    "summ,diff=addsub(10,7)# Since a tuple a returned so that we can assign variables to each returned value\n",
    "print(summ)           #Like summ and diff\n",
    "print(diff)"
   ]
  },
  {
   "cell_type": "code",
   "execution_count": 24,
   "id": "f2f7a21c",
   "metadata": {},
   "outputs": [
    {
     "data": {
      "text/plain": [
       "(1, 2, 3, 4, 5)"
      ]
     },
     "execution_count": 24,
     "metadata": {},
     "output_type": "execute_result"
    }
   ],
   "source": [
    "#Conversion of Tuple into List and Vice Versa\n",
    "a=[1,2,3,4,5]\n",
    "a=tuple(a)\n",
    "a"
   ]
  },
  {
   "cell_type": "code",
   "execution_count": 25,
   "id": "1aff3ab7",
   "metadata": {},
   "outputs": [
    {
     "data": {
      "text/plain": [
       "[1, 2, 3, 4, 5]"
      ]
     },
     "execution_count": 25,
     "metadata": {},
     "output_type": "execute_result"
    }
   ],
   "source": [
    "a=list(a)\n",
    "a"
   ]
  },
  {
   "cell_type": "code",
   "execution_count": null,
   "id": "a93353da",
   "metadata": {},
   "outputs": [],
   "source": []
  }
 ],
 "metadata": {
  "kernelspec": {
   "display_name": "Python 3 (ipykernel)",
   "language": "python",
   "name": "python3"
  },
  "language_info": {
   "codemirror_mode": {
    "name": "ipython",
    "version": 3
   },
   "file_extension": ".py",
   "mimetype": "text/x-python",
   "name": "python",
   "nbconvert_exporter": "python",
   "pygments_lexer": "ipython3",
   "version": "3.7.9"
  }
 },
 "nbformat": 4,
 "nbformat_minor": 5
}
