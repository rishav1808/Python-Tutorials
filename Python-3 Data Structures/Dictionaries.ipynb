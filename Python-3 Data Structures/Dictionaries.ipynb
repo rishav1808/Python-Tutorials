{
 "cells": [
  {
   "cell_type": "markdown",
   "id": "927c5ba3",
   "metadata": {},
   "source": [
    "## Dictionaries\n",
    "Dictionary is a data structure which stores the items as a 'Key-value' pair .They are iteratable and not indexed"
   ]
  },
  {
   "cell_type": "code",
   "execution_count": 9,
   "id": "441e286f",
   "metadata": {},
   "outputs": [
    {
     "name": "stdout",
     "output_type": "stream",
     "text": [
      "name\n",
      "cgpa\n",
      "subjects\n",
      "other details\n"
     ]
    }
   ],
   "source": [
    "d1={\n",
    "    \"name\":\"Rishav\",\n",
    "    \"cgpa\":8.67,\n",
    "    \"subjects\":{\n",
    "        \"Microprocessor\":\"CSE2006\",\n",
    "        \"Internet and Web Programming\":\"CSE3002\"\n",
    "    },\n",
    "    \"other details\":(45,6,77)\n",
    "}\n",
    "for i in d1:\n",
    "    print(i)\n"
   ]
  },
  {
   "cell_type": "markdown",
   "id": "55948b03",
   "metadata": {},
   "source": [
    "### METHODS\n",
    "1. items()-->returns all the key-value pair as a tuple"
   ]
  },
  {
   "cell_type": "code",
   "execution_count": 13,
   "id": "9ce578ae",
   "metadata": {},
   "outputs": [
    {
     "name": "stdout",
     "output_type": "stream",
     "text": [
      "('name', 'Rishav')\n",
      "('cgpa', 8.67)\n",
      "('subjects', {'Microprocessor': 'CSE2006', 'Internet and Web Programming': 'CSE3002'})\n",
      "('other details', (45, 6, 77))\n"
     ]
    }
   ],
   "source": [
    "for item in d1.items():\n",
    "    print(item)"
   ]
  },
  {
   "cell_type": "code",
   "execution_count": 14,
   "id": "d6621f90",
   "metadata": {},
   "outputs": [
    {
     "name": "stdout",
     "output_type": "stream",
     "text": [
      "name => Rishav\n",
      "cgpa => 8.67\n",
      "subjects => {'Microprocessor': 'CSE2006', 'Internet and Web Programming': 'CSE3002'}\n",
      "other details => (45, 6, 77)\n"
     ]
    }
   ],
   "source": [
    "for key,value in d1.items():\n",
    "    print(key,\"=>\",value)"
   ]
  },
  {
   "cell_type": "markdown",
   "id": "bd4287da",
   "metadata": {},
   "source": [
    "2. values()--> returns all the values and ignore all the keys"
   ]
  },
  {
   "cell_type": "code",
   "execution_count": 16,
   "id": "b3638113",
   "metadata": {},
   "outputs": [
    {
     "name": "stdout",
     "output_type": "stream",
     "text": [
      "Rishav\n",
      "8.67\n",
      "{'Microprocessor': 'CSE2006', 'Internet and Web Programming': 'CSE3002'}\n",
      "(45, 6, 77)\n"
     ]
    }
   ],
   "source": [
    "for val in d1.values():\n",
    "    print(val)"
   ]
  },
  {
   "cell_type": "code",
   "execution_count": 17,
   "id": "4c96555b",
   "metadata": {},
   "outputs": [
    {
     "name": "stdout",
     "output_type": "stream",
     "text": [
      "name\n",
      "cgpa\n",
      "subjects\n",
      "other details\n"
     ]
    }
   ],
   "source": [
    "# 3. keys()--> return all the keys and ignore all the values\n",
    "for i in d1.keys():\n",
    "    print(i)"
   ]
  },
  {
   "cell_type": "code",
   "execution_count": 19,
   "id": "3f1a4c71",
   "metadata": {},
   "outputs": [
    {
     "data": {
      "text/plain": [
       "'Rishav'"
      ]
     },
     "execution_count": 19,
     "metadata": {},
     "output_type": "execute_result"
    }
   ],
   "source": [
    "# 4. get()-->returns the values associated with the particular keys\n",
    "d1.get(\"name\")"
   ]
  },
  {
   "cell_type": "code",
   "execution_count": 20,
   "id": "01c5c660",
   "metadata": {},
   "outputs": [
    {
     "data": {
      "text/plain": [
       "{'Microprocessor': 'CSE2006', 'Internet and Web Programming': 'CSE3002'}"
      ]
     },
     "execution_count": 20,
     "metadata": {},
     "output_type": "execute_result"
    }
   ],
   "source": [
    "d1.get(\"subjects\")"
   ]
  },
  {
   "cell_type": "code",
   "execution_count": 21,
   "id": "2e4c97e4",
   "metadata": {},
   "outputs": [],
   "source": [
    "# 5.clear()-->Removes the elements of the dictonary"
   ]
  },
  {
   "cell_type": "code",
   "execution_count": 33,
   "id": "11d00b34",
   "metadata": {},
   "outputs": [
    {
     "name": "stdout",
     "output_type": "stream",
     "text": [
      "Enter number of students:2\n",
      "Enter roll no: 123\n",
      "Enter name of the student:Rishav\n",
      "Enter Branch:CSE\n",
      "Enter roll no: 100\n",
      "Enter name of the student:Ram\n",
      "Enter Branch:IT\n"
     ]
    }
   ],
   "source": [
    "n=int(input(\"Enter number of students:\"))\n",
    "l=[]\n",
    "for i in range(0,n):\n",
    "    roll_no=int(input(\"Enter roll no: \"))\n",
    "    name=input(\"Enter name of the student:\")\n",
    "    branch=input(\"Enter Branch:\")\n",
    "    l.append({\n",
    "        \"Roll-no\":roll_no,\n",
    "        \"Name\":name,\n",
    "        \"Branch\":branch\n",
    "    })\n"
   ]
  },
  {
   "cell_type": "code",
   "execution_count": 34,
   "id": "41e7d401",
   "metadata": {},
   "outputs": [
    {
     "data": {
      "text/plain": [
       "[{'Roll-no': 123, 'Name': 'Rishav', 'Branch': 'CSE'},\n",
       " {'Roll-no': 100, 'Name': 'Ram', 'Branch': 'IT'}]"
      ]
     },
     "execution_count": 34,
     "metadata": {},
     "output_type": "execute_result"
    }
   ],
   "source": [
    "l"
   ]
  },
  {
   "cell_type": "markdown",
   "id": "4c822f3c",
   "metadata": {},
   "source": [
    "# Keys in the Dictionary can be any IMMUTABLE DS\n",
    "### So, Lists can't be used as Keys in Dictionary"
   ]
  },
  {
   "cell_type": "code",
   "execution_count": 35,
   "id": "1a95567e",
   "metadata": {},
   "outputs": [
    {
     "data": {
      "text/plain": [
       "'Rishav'"
      ]
     },
     "execution_count": 35,
     "metadata": {},
     "output_type": "execute_result"
    }
   ],
   "source": [
    "a={\n",
    "    (1,2):\"Rishav\"\n",
    "}\n",
    "a[(1,2)]"
   ]
  },
  {
   "cell_type": "code",
   "execution_count": null,
   "id": "0a037186",
   "metadata": {},
   "outputs": [],
   "source": []
  }
 ],
 "metadata": {
  "kernelspec": {
   "display_name": "Python 3 (ipykernel)",
   "language": "python",
   "name": "python3"
  },
  "language_info": {
   "codemirror_mode": {
    "name": "ipython",
    "version": 3
   },
   "file_extension": ".py",
   "mimetype": "text/x-python",
   "name": "python",
   "nbconvert_exporter": "python",
   "pygments_lexer": "ipython3",
   "version": "3.7.9"
  }
 },
 "nbformat": 4,
 "nbformat_minor": 5
}
