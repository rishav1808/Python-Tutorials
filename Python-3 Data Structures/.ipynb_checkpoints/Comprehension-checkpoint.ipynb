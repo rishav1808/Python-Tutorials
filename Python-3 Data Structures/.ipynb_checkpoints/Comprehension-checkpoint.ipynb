{
 "cells": [
  {
   "cell_type": "markdown",
   "id": "493a529f",
   "metadata": {},
   "source": [
    "## Comprehension in Python\n",
    "Creating and filling the list,set and dictionaries in one line.\n",
    "Syntactical Sugar"
   ]
  },
  {
   "cell_type": "code",
   "execution_count": 1,
   "id": "16dbf6cd",
   "metadata": {},
   "outputs": [
    {
     "data": {
      "text/plain": [
       "[1, 4, 9, 16, 25, 36, 49, 64, 81]"
      ]
     },
     "execution_count": 1,
     "metadata": {},
     "output_type": "execute_result"
    }
   ],
   "source": [
    "# Program to calculate the Squares of the nos. from 1 to 9 and appending it in list and displaying the list\n",
    "l=[]\n",
    "for i in range(1,10):\n",
    "    l.append(i**2)\n",
    "l"
   ]
  },
  {
   "cell_type": "code",
   "execution_count": 2,
   "id": "b4a3704b",
   "metadata": {},
   "outputs": [
    {
     "data": {
      "text/plain": [
       "[1, 4, 9, 16, 25, 36, 49, 64, 81]"
      ]
     },
     "execution_count": 2,
     "metadata": {},
     "output_type": "execute_result"
    }
   ],
   "source": [
    "[i**2 for i in range(1,10)] #Creating and Appending a list with the square of nos from 1 to 9"
   ]
  },
  {
   "cell_type": "code",
   "execution_count": 3,
   "id": "83751f72",
   "metadata": {},
   "outputs": [
    {
     "data": {
      "text/plain": [
       "[1, 9, 25, 49, 81]"
      ]
     },
     "execution_count": 3,
     "metadata": {},
     "output_type": "execute_result"
    }
   ],
   "source": [
    "[i**2 for i in range(1,10) if i%2!=0] #Creating and Appending a list with the square of odd nos from 1 to 9"
   ]
  },
  {
   "cell_type": "code",
   "execution_count": 10,
   "id": "cbcd11f3",
   "metadata": {},
   "outputs": [
    {
     "data": {
      "text/plain": [
       "{'Square of 1': 1,\n",
       " 'Square of 2': 4,\n",
       " 'Square of 3': 9,\n",
       " 'Square of 4': 16,\n",
       " 'Square of 5': 25,\n",
       " 'Square of 6': 36,\n",
       " 'Square of 7': 49,\n",
       " 'Square of 8': 64,\n",
       " 'Square of 9': 81}"
      ]
     },
     "execution_count": 10,
     "metadata": {},
     "output_type": "execute_result"
    }
   ],
   "source": [
    "# For DICTIONARY\n",
    "{\"Square of {}\".format(i): i**2 for i in range(1,10)}"
   ]
  },
  {
   "cell_type": "code",
   "execution_count": 11,
   "id": "2613dbf7",
   "metadata": {},
   "outputs": [
    {
     "data": {
      "text/plain": [
       "{1, 4, 9, 16, 25, 36, 49, 64, 81}"
      ]
     },
     "execution_count": 11,
     "metadata": {},
     "output_type": "execute_result"
    }
   ],
   "source": [
    "#FOR SETS\n",
    "{i**2 for i in range(1,10)}"
   ]
  },
  {
   "cell_type": "code",
   "execution_count": 12,
   "id": "6653eade",
   "metadata": {},
   "outputs": [
    {
     "data": {
      "text/plain": [
       "<generator object <genexpr> at 0x0000015ACFD05948>"
      ]
     },
     "execution_count": 12,
     "metadata": {},
     "output_type": "execute_result"
    }
   ],
   "source": [
    "# NOT APPLICABLE OF TUPLES\n",
    "(i**2 for i in range(1,10))"
   ]
  },
  {
   "cell_type": "code",
   "execution_count": null,
   "id": "fc5de561",
   "metadata": {},
   "outputs": [],
   "source": []
  }
 ],
 "metadata": {
  "kernelspec": {
   "display_name": "Python 3 (ipykernel)",
   "language": "python",
   "name": "python3"
  },
  "language_info": {
   "codemirror_mode": {
    "name": "ipython",
    "version": 3
   },
   "file_extension": ".py",
   "mimetype": "text/x-python",
   "name": "python",
   "nbconvert_exporter": "python",
   "pygments_lexer": "ipython3",
   "version": "3.7.9"
  }
 },
 "nbformat": 4,
 "nbformat_minor": 5
}
