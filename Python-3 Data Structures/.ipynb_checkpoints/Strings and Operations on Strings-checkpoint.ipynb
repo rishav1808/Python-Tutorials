{
 "cells": [
  {
   "cell_type": "markdown",
   "id": "c50f0e49",
   "metadata": {},
   "source": [
    "## Strings\n",
    "String is a array of characters\n",
    "In PYTHON we can't do this\n",
    "    s=\"Rishav\"\n",
    "    s[3]=p   ;Not pssbl\n",
    " "
   ]
  },
  {
   "cell_type": "code",
   "execution_count": 3,
   "id": "0de40c6c",
   "metadata": {},
   "outputs": [
    {
     "data": {
      "text/plain": [
       "97"
      ]
     },
     "execution_count": 3,
     "metadata": {},
     "output_type": "execute_result"
    }
   ],
   "source": [
    "ord(\"a\") # Returns the ASCII value of the character"
   ]
  },
  {
   "cell_type": "code",
   "execution_count": 5,
   "id": "a4dc89e4",
   "metadata": {},
   "outputs": [
    {
     "data": {
      "text/plain": [
       "'c'"
      ]
     },
     "execution_count": 5,
     "metadata": {},
     "output_type": "execute_result"
    }
   ],
   "source": [
    "chr(99) #Returns the corresponding character to a integer value"
   ]
  },
  {
   "cell_type": "code",
   "execution_count": 9,
   "id": "e433bf41",
   "metadata": {},
   "outputs": [
    {
     "name": "stdout",
     "output_type": "stream",
     "text": [
      "\n",
      "    Multiple\n",
      "    Line Input\n",
      "    present here\n",
      "\n"
     ]
    }
   ],
   "source": [
    "#String can be defined in the following ways\n",
    "a=\"Hello Python\"\n",
    "b='Hi Python'\n",
    "c='''\n",
    "    Multiple\n",
    "    Line Input\n",
    "    present here\n",
    "'''\n",
    "print(c)\n",
    "d = \"\"\"\n",
    "    Another Way to\n",
    "    reprsent strings\n",
    "    in Python\n",
    "\"\"\"\n"
   ]
  },
  {
   "cell_type": "code",
   "execution_count": 10,
   "id": "7a5eeb4f",
   "metadata": {},
   "outputs": [
    {
     "name": "stdout",
     "output_type": "stream",
     "text": [
      "\n",
      "    Another Way to\n",
      "    reprsent strings\n",
      "    in Python\n",
      "\n"
     ]
    }
   ],
   "source": [
    "print(d)"
   ]
  },
  {
   "cell_type": "markdown",
   "id": "c7ec3321",
   "metadata": {},
   "source": [
    "## String Operations\n",
    "### 1.format strings"
   ]
  },
  {
   "cell_type": "code",
   "execution_count": 11,
   "id": "61c3cf90",
   "metadata": {},
   "outputs": [],
   "source": [
    "name=\"Rishav\"\n",
    "sem=5\n",
    "cgpa=8.67"
   ]
  },
  {
   "cell_type": "code",
   "execution_count": 13,
   "id": "f8fd7486",
   "metadata": {},
   "outputs": [
    {
     "name": "stdout",
     "output_type": "stream",
     "text": [
      "My name is Rishav.I am currently in 5th semester and my cgpa is 8.67\n"
     ]
    }
   ],
   "source": [
    "# 1st way is concatination of the strings using the '+' operator and str conversion of variables\n",
    "print(\"My name is \"+str(name)+\".I am currently in \"+str(sem)+\"th semester and my cgpa is \"+str(cgpa))"
   ]
  },
  {
   "cell_type": "code",
   "execution_count": 17,
   "id": "131de910",
   "metadata": {},
   "outputs": [
    {
     "name": "stdout",
     "output_type": "stream",
     "text": [
      "My name is Rishav.I am currently in 5th semester and my cgpa is 8.67\n"
     ]
    }
   ],
   "source": [
    "#2nd way is to use C Language like syntax\n",
    "print(\"My name is %s.I am currently in %dth semester and my cgpa is %0.2f\"%(name,sem,cgpa))"
   ]
  },
  {
   "cell_type": "code",
   "execution_count": 18,
   "id": "65dc7f8e",
   "metadata": {},
   "outputs": [
    {
     "name": "stdout",
     "output_type": "stream",
     "text": [
      "My name is Rishav. I am currently in 5th semester and my cgpa is 8.67\n"
     ]
    }
   ],
   "source": [
    "# 3rd way is to use format function\n",
    "print(\"My name is {}. I am currently in {}th semester and my cgpa is {}\".format(name,sem,cgpa))"
   ]
  },
  {
   "cell_type": "code",
   "execution_count": 19,
   "id": "9d7ec951",
   "metadata": {},
   "outputs": [
    {
     "name": "stdout",
     "output_type": "stream",
     "text": [
      "My name is Rishav.I am currently in 5th semester and my cgpa is 8.67.\n"
     ]
    }
   ],
   "source": [
    "# 4th way is to use formated strings or F-strings\n",
    "print(f\"My name is {name}.I am currently in {sem}th semester and my cgpa is {cgpa}.\")"
   ]
  },
  {
   "cell_type": "markdown",
   "id": "3511fda0",
   "metadata": {},
   "source": [
    "### 2. strip()\n",
    "strip function is used to remove extra white spaces from the string. lstrip-->remove left white space.  rstrip-->remove right white space."
   ]
  },
  {
   "cell_type": "code",
   "execution_count": 22,
   "id": "59d98f94",
   "metadata": {},
   "outputs": [
    {
     "name": "stdout",
     "output_type": "stream",
     "text": [
      "Enter your choice: yes \n",
      "Incorrect\n"
     ]
    }
   ],
   "source": [
    "s=input(\"Enter your choice: \")\n",
    "\n",
    "if(s==\"yes\"):\n",
    "    print(\"Correct\")\n",
    "else:\n",
    "    print(\"Incorrect\")"
   ]
  },
  {
   "cell_type": "code",
   "execution_count": 24,
   "id": "822ec354",
   "metadata": {},
   "outputs": [
    {
     "name": "stdout",
     "output_type": "stream",
     "text": [
      "Enter your choice:  yes   \n",
      "Correct\n"
     ]
    }
   ],
   "source": [
    "p=input(\"Enter your choice: \")\n",
    "p=p.strip()\n",
    "if(p==\"yes\"): # or we could have done if(p.strip()==\"yes\")\n",
    "    print(\"Correct\")\n",
    "else:\n",
    "    print(\"Incorrect\")"
   ]
  },
  {
   "cell_type": "markdown",
   "id": "e6632946",
   "metadata": {},
   "source": [
    "### 3.split()\n",
    "split() is used to break the strings into several parts based on some given operators"
   ]
  },
  {
   "cell_type": "code",
   "execution_count": 27,
   "id": "e5810cd4",
   "metadata": {},
   "outputs": [
    {
     "name": "stdout",
     "output_type": "stream",
     "text": [
      "['My', 'favourite', 'band', 'is', 'Linkin', 'Park']\n"
     ]
    }
   ],
   "source": [
    "r=\"My favourite band is Linkin Park\"\n",
    "print(r.split(\" \")) #Splits the string on every space present"
   ]
  },
  {
   "cell_type": "code",
   "execution_count": 28,
   "id": "85132dbb",
   "metadata": {},
   "outputs": [
    {
     "name": "stdout",
     "output_type": "stream",
     "text": [
      "['My f', 'vourite b', 'nd is Linkin P', 'rk']\n"
     ]
    }
   ],
   "source": [
    "print(r.split(\"a\")) #Splits the string on occurence of every 'a' and doesn't include 'a'"
   ]
  },
  {
   "cell_type": "markdown",
   "id": "312e8304",
   "metadata": {},
   "source": [
    "### 4.replace()\n"
   ]
  },
  {
   "cell_type": "code",
   "execution_count": 29,
   "id": "cb9420a0",
   "metadata": {},
   "outputs": [
    {
     "name": "stdout",
     "output_type": "stream",
     "text": [
      "My name is Slim Kumar\n"
     ]
    }
   ],
   "source": [
    "name=\"My name is Slim Shady\"\n",
    "new_name=name.replace(\"Shady\",\"Kumar\")\n",
    "print(new_name)"
   ]
  },
  {
   "cell_type": "code",
   "execution_count": 30,
   "id": "63cb680d",
   "metadata": {},
   "outputs": [
    {
     "name": "stdout",
     "output_type": "stream",
     "text": [
      "My name is Slim Shady\n"
     ]
    }
   ],
   "source": [
    "print(name)"
   ]
  },
  {
   "cell_type": "code",
   "execution_count": 33,
   "id": "adfbbafd",
   "metadata": {},
   "outputs": [
    {
     "data": {
      "text/plain": [
       "'My name is Slim Sharma'"
      ]
     },
     "execution_count": 33,
     "metadata": {},
     "output_type": "execute_result"
    }
   ],
   "source": [
    "name=name.replace(\"Shady\",\"Sharma\")\n",
    "name\n"
   ]
  },
  {
   "cell_type": "code",
   "execution_count": null,
   "id": "0549c7e3",
   "metadata": {},
   "outputs": [],
   "source": []
  }
 ],
 "metadata": {
  "kernelspec": {
   "display_name": "Python 3 (ipykernel)",
   "language": "python",
   "name": "python3"
  },
  "language_info": {
   "codemirror_mode": {
    "name": "ipython",
    "version": 3
   },
   "file_extension": ".py",
   "mimetype": "text/x-python",
   "name": "python",
   "nbconvert_exporter": "python",
   "pygments_lexer": "ipython3",
   "version": "3.7.9"
  }
 },
 "nbformat": 4,
 "nbformat_minor": 5
}
