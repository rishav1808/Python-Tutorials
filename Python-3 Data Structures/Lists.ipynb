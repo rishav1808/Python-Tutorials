{
 "cells": [
  {
   "cell_type": "markdown",
   "id": "20b2ad51",
   "metadata": {},
   "source": [
    "## Lists\n",
    "List is a data structure in Python which can represented by:\n",
    "l=[1,4,2,3]\n",
    "Properties:\n",
    "    1.Ordered:Position of element remain the same\n",
    "    2.Mutable: The elements of the list can be changed\n",
    "    3.Access via Index is possible-->print(l[2])\n",
    "    4.Heterogenous:In a single list , various data type elements can be stored"
   ]
  },
  {
   "cell_type": "code",
   "execution_count": 1,
   "id": "ed2dc017",
   "metadata": {},
   "outputs": [
    {
     "data": {
      "text/plain": [
       "2.6"
      ]
     },
     "execution_count": 1,
     "metadata": {},
     "output_type": "execute_result"
    }
   ],
   "source": [
    "l=[1,2.6,\"Rishav\",print]\n",
    "l[1]"
   ]
  },
  {
   "cell_type": "code",
   "execution_count": 3,
   "id": "0a2d24a9",
   "metadata": {},
   "outputs": [
    {
     "name": "stdout",
     "output_type": "stream",
     "text": [
      "Hello\n"
     ]
    }
   ],
   "source": [
    "l[3](\"Hello\")"
   ]
  },
  {
   "cell_type": "markdown",
   "id": "a46c3b64",
   "metadata": {},
   "source": [
    "### Basic Operations\n",
    "### 1. Length"
   ]
  },
  {
   "cell_type": "code",
   "execution_count": 5,
   "id": "844a50e0",
   "metadata": {},
   "outputs": [
    {
     "data": {
      "text/plain": [
       "4"
      ]
     },
     "execution_count": 5,
     "metadata": {},
     "output_type": "execute_result"
    }
   ],
   "source": [
    "len(l)"
   ]
  },
  {
   "cell_type": "code",
   "execution_count": 7,
   "id": "ea7f765b",
   "metadata": {},
   "outputs": [
    {
     "data": {
      "text/plain": [
       "[1, 2.6, 'Rishav', <function print>, 1, 2.6, 'Rishav', <function print>]"
      ]
     },
     "execution_count": 7,
     "metadata": {},
     "output_type": "execute_result"
    }
   ],
   "source": [
    "#2.Concatenation\n",
    "l+l\n"
   ]
  },
  {
   "cell_type": "code",
   "execution_count": 8,
   "id": "d32d8608",
   "metadata": {},
   "outputs": [
    {
     "data": {
      "text/plain": [
       "[1,\n",
       " 2.6,\n",
       " 'Rishav',\n",
       " <function print>,\n",
       " 1,\n",
       " 2.6,\n",
       " 'Rishav',\n",
       " <function print>,\n",
       " 1,\n",
       " 2.6,\n",
       " 'Rishav',\n",
       " <function print>]"
      ]
     },
     "execution_count": 8,
     "metadata": {},
     "output_type": "execute_result"
    }
   ],
   "source": [
    "#\n",
    "l*3\n"
   ]
  },
  {
   "cell_type": "code",
   "execution_count": 11,
   "id": "9c016cbb",
   "metadata": {},
   "outputs": [
    {
     "data": {
      "text/plain": [
       "True"
      ]
     },
     "execution_count": 11,
     "metadata": {},
     "output_type": "execute_result"
    }
   ],
   "source": [
    "#Membership\n",
    "1 in l"
   ]
  },
  {
   "cell_type": "code",
   "execution_count": 12,
   "id": "87c587e4",
   "metadata": {},
   "outputs": [
    {
     "name": "stdout",
     "output_type": "stream",
     "text": [
      "1\n",
      "2.6\n",
      "Rishav\n",
      "<built-in function print>\n"
     ]
    }
   ],
   "source": [
    "#Iterating the List\n",
    "for x in l:\n",
    "    print(x)"
   ]
  },
  {
   "cell_type": "code",
   "execution_count": 13,
   "id": "f0cdff38",
   "metadata": {},
   "outputs": [
    {
     "data": {
      "text/plain": [
       "5"
      ]
     },
     "execution_count": 13,
     "metadata": {},
     "output_type": "execute_result"
    }
   ],
   "source": [
    "a=[1,2,3,4,5]\n",
    "#SLICING\n",
    "a[-1]"
   ]
  },
  {
   "cell_type": "code",
   "execution_count": 14,
   "id": "90d7e1e4",
   "metadata": {},
   "outputs": [
    {
     "data": {
      "text/plain": [
       "4"
      ]
     },
     "execution_count": 14,
     "metadata": {},
     "output_type": "execute_result"
    }
   ],
   "source": [
    "a[-2]"
   ]
  },
  {
   "cell_type": "code",
   "execution_count": 16,
   "id": "851a084d",
   "metadata": {},
   "outputs": [
    {
     "data": {
      "text/plain": [
       "[3, 4]"
      ]
     },
     "execution_count": 16,
     "metadata": {},
     "output_type": "execute_result"
    }
   ],
   "source": [
    "a[2:4] #slice the list from a[2] to a[3] [2,4)"
   ]
  },
  {
   "cell_type": "code",
   "execution_count": 17,
   "id": "ce614796",
   "metadata": {},
   "outputs": [
    {
     "data": {
      "text/plain": [
       "[1, 3, 5]"
      ]
     },
     "execution_count": 17,
     "metadata": {},
     "output_type": "execute_result"
    }
   ],
   "source": [
    "a[0:5:2] #Takes a Jump of 2"
   ]
  },
  {
   "cell_type": "code",
   "execution_count": 18,
   "id": "5f92f98e",
   "metadata": {},
   "outputs": [
    {
     "data": {
      "text/plain": [
       "[5, 4, 3, 2, 1]"
      ]
     },
     "execution_count": 18,
     "metadata": {},
     "output_type": "execute_result"
    }
   ],
   "source": [
    "#Reversing a string best way\n",
    "a[: :-1]"
   ]
  },
  {
   "cell_type": "code",
   "execution_count": 20,
   "id": "14d76297",
   "metadata": {},
   "outputs": [
    {
     "name": "stdout",
     "output_type": "stream",
     "text": [
      "Not Palindrome\n"
     ]
    }
   ],
   "source": [
    "#To check if list is a palindrome or not\n",
    "if(a==a[::-1]):\n",
    "    print(\"Palindrome\")\n",
    "else:\n",
    "    print(\"Not Palindrome\")"
   ]
  },
  {
   "cell_type": "code",
   "execution_count": 27,
   "id": "2801e82a",
   "metadata": {},
   "outputs": [
    {
     "name": "stdout",
     "output_type": "stream",
     "text": [
      "Palindrome\n"
     ]
    }
   ],
   "source": [
    "s=\"nitin\"\n",
    "if(s[::-1]==s):\n",
    "    print(\"Palindrome\")\n",
    "else:\n",
    "    print(\"Not Palindrome\")\n"
   ]
  },
  {
   "cell_type": "markdown",
   "id": "cee5c862",
   "metadata": {},
   "source": [
    "### Insert and append"
   ]
  },
  {
   "cell_type": "code",
   "execution_count": 28,
   "id": "44355ffb",
   "metadata": {},
   "outputs": [],
   "source": [
    "a.insert(1,\"Rishav\")"
   ]
  },
  {
   "cell_type": "code",
   "execution_count": 29,
   "id": "67c0d8b7",
   "metadata": {},
   "outputs": [
    {
     "data": {
      "text/plain": [
       "[1, 'Rishav', 2, 3, 4, 5]"
      ]
     },
     "execution_count": 29,
     "metadata": {},
     "output_type": "execute_result"
    }
   ],
   "source": [
    "a"
   ]
  },
  {
   "cell_type": "code",
   "execution_count": 30,
   "id": "76a9a94f",
   "metadata": {},
   "outputs": [],
   "source": [
    "a.append(\"Raj\")"
   ]
  },
  {
   "cell_type": "code",
   "execution_count": 31,
   "id": "ddf65949",
   "metadata": {},
   "outputs": [
    {
     "data": {
      "text/plain": [
       "[1, 'Rishav', 2, 3, 4, 5, 'Raj']"
      ]
     },
     "execution_count": 31,
     "metadata": {},
     "output_type": "execute_result"
    }
   ],
   "source": [
    "a"
   ]
  },
  {
   "cell_type": "markdown",
   "id": "f372aad4",
   "metadata": {},
   "source": [
    "### pop , remove, delete"
   ]
  },
  {
   "cell_type": "code",
   "execution_count": 32,
   "id": "71d2b6c2",
   "metadata": {},
   "outputs": [
    {
     "data": {
      "text/plain": [
       "3"
      ]
     },
     "execution_count": 32,
     "metadata": {},
     "output_type": "execute_result"
    }
   ],
   "source": [
    "#pop: Removes the metioned element from the list or removes the last element from the list by DEFAULT\n",
    "a.pop(3)"
   ]
  },
  {
   "cell_type": "code",
   "execution_count": 33,
   "id": "5bc3a936",
   "metadata": {},
   "outputs": [
    {
     "data": {
      "text/plain": [
       "'Raj'"
      ]
     },
     "execution_count": 33,
     "metadata": {},
     "output_type": "execute_result"
    }
   ],
   "source": [
    "a.pop()\n",
    "#pop() method works with the indexes"
   ]
  },
  {
   "cell_type": "code",
   "execution_count": 34,
   "id": "79525d9a",
   "metadata": {},
   "outputs": [
    {
     "data": {
      "text/plain": [
       "[1, 'Rishav', 2, 4, 5]"
      ]
     },
     "execution_count": 34,
     "metadata": {},
     "output_type": "execute_result"
    }
   ],
   "source": [
    "a"
   ]
  },
  {
   "cell_type": "code",
   "execution_count": 35,
   "id": "9bb08f0a",
   "metadata": {},
   "outputs": [],
   "source": [
    "# remove method works exactly same as pop but in remove we have to pass an object as an argument.\n",
    "#  remove() takes exactly one argument \n",
    "a.remove(\"Rishav\")"
   ]
  },
  {
   "cell_type": "code",
   "execution_count": 36,
   "id": "e4412ece",
   "metadata": {},
   "outputs": [
    {
     "data": {
      "text/plain": [
       "[1, 2, 4, 5]"
      ]
     },
     "execution_count": 36,
     "metadata": {},
     "output_type": "execute_result"
    }
   ],
   "source": [
    "a"
   ]
  },
  {
   "cell_type": "code",
   "execution_count": 38,
   "id": "41da5ca9",
   "metadata": {},
   "outputs": [
    {
     "data": {
      "text/plain": [
       "[1, 2, 4, 5]"
      ]
     },
     "execution_count": 38,
     "metadata": {},
     "output_type": "execute_result"
    }
   ],
   "source": [
    "# del deletes the list element directly\n",
    "a"
   ]
  },
  {
   "cell_type": "code",
   "execution_count": 40,
   "id": "927ed549",
   "metadata": {},
   "outputs": [],
   "source": [
    "del a[1]"
   ]
  },
  {
   "cell_type": "code",
   "execution_count": 41,
   "id": "3548b325",
   "metadata": {},
   "outputs": [
    {
     "data": {
      "text/plain": [
       "[1, 4, 5]"
      ]
     },
     "execution_count": 41,
     "metadata": {},
     "output_type": "execute_result"
    }
   ],
   "source": [
    "a"
   ]
  },
  {
   "cell_type": "code",
   "execution_count": 42,
   "id": "d784fc06",
   "metadata": {},
   "outputs": [],
   "source": [
    "del a # removes the entire list"
   ]
  },
  {
   "cell_type": "code",
   "execution_count": 43,
   "id": "1e558856",
   "metadata": {},
   "outputs": [
    {
     "ename": "NameError",
     "evalue": "name 'a' is not defined",
     "output_type": "error",
     "traceback": [
      "\u001b[1;31m---------------------------------------------------------------------------\u001b[0m",
      "\u001b[1;31mNameError\u001b[0m                                 Traceback (most recent call last)",
      "\u001b[1;32m~\\AppData\\Local\\Temp/ipykernel_15168/2167009006.py\u001b[0m in \u001b[0;36m<module>\u001b[1;34m\u001b[0m\n\u001b[1;32m----> 1\u001b[1;33m \u001b[0ma\u001b[0m\u001b[1;33m\u001b[0m\u001b[1;33m\u001b[0m\u001b[0m\n\u001b[0m",
      "\u001b[1;31mNameError\u001b[0m: name 'a' is not defined"
     ]
    }
   ],
   "source": [
    "a"
   ]
  },
  {
   "cell_type": "code",
   "execution_count": 49,
   "id": "d45f24eb",
   "metadata": {},
   "outputs": [],
   "source": [
    "a=[1,3,2,9,5]"
   ]
  },
  {
   "cell_type": "markdown",
   "id": "e7ddeea9",
   "metadata": {},
   "source": [
    "### Sort and Reverese"
   ]
  },
  {
   "cell_type": "code",
   "execution_count": 51,
   "id": "f278f4b7",
   "metadata": {},
   "outputs": [
    {
     "data": {
      "text/plain": [
       "[1, 2, 3, 5, 9]"
      ]
     },
     "execution_count": 51,
     "metadata": {},
     "output_type": "execute_result"
    }
   ],
   "source": [
    "#1. Sorted:Takes the list as argument and returns the sorted list\n",
    "sorted(a)"
   ]
  },
  {
   "cell_type": "code",
   "execution_count": 53,
   "id": "41575f00",
   "metadata": {},
   "outputs": [
    {
     "data": {
      "text/plain": [
       "[1, 2, 3, 5, 9]"
      ]
     },
     "execution_count": 53,
     "metadata": {},
     "output_type": "execute_result"
    }
   ],
   "source": [
    "#2. Sort: Sorts the list and returns nothing\n",
    "a.sort()\n",
    "a"
   ]
  },
  {
   "cell_type": "code",
   "execution_count": 56,
   "id": "e5bfcca4",
   "metadata": {},
   "outputs": [
    {
     "name": "stdout",
     "output_type": "stream",
     "text": [
      "9\n",
      "5\n",
      "3\n",
      "2\n",
      "1\n"
     ]
    }
   ],
   "source": [
    "# 3. reversed: Takes list as an argument and returns the list in sorted order in descending order\n",
    "for i in reversed(a):\n",
    "    print(i)"
   ]
  },
  {
   "cell_type": "code",
   "execution_count": 62,
   "id": "3198ed02",
   "metadata": {},
   "outputs": [
    {
     "data": {
      "text/plain": [
       "[9, 5, 3, 2, 1]"
      ]
     },
     "execution_count": 62,
     "metadata": {},
     "output_type": "execute_result"
    }
   ],
   "source": [
    "# 4.reverse: Sorts the list in descending order\n",
    "a.reverse()\n",
    "a"
   ]
  },
  {
   "cell_type": "code",
   "execution_count": null,
   "id": "f95e9d7f",
   "metadata": {},
   "outputs": [],
   "source": []
  },
  {
   "cell_type": "code",
   "execution_count": null,
   "id": "476fdc55",
   "metadata": {},
   "outputs": [],
   "source": []
  },
  {
   "cell_type": "code",
   "execution_count": null,
   "id": "c376710b",
   "metadata": {},
   "outputs": [],
   "source": []
  }
 ],
 "metadata": {
  "kernelspec": {
   "display_name": "Python 3 (ipykernel)",
   "language": "python",
   "name": "python3"
  },
  "language_info": {
   "codemirror_mode": {
    "name": "ipython",
    "version": 3
   },
   "file_extension": ".py",
   "mimetype": "text/x-python",
   "name": "python",
   "nbconvert_exporter": "python",
   "pygments_lexer": "ipython3",
   "version": "3.7.9"
  }
 },
 "nbformat": 4,
 "nbformat_minor": 5
}
